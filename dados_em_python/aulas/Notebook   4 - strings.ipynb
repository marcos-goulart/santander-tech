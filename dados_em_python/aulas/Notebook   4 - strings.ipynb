{
  "cells": [
    {
      "cell_type": "markdown",
      "metadata": {
        "id": "4kZBFqkeowUx"
      },
      "source": [
        "# Aula 4 - strings\n",
        "\n",
        "Na aula de hoje, vamos explorar os seguintes tópicos em Python:\n",
        "\n",
        "- 1) Strings\n",
        "- 2) Funções de Strings\n",
        "    - 2.1) Formatação de strings\n",
        "_____________\n",
        "\n",
        "### Problema gerador: como validar input do usuário de estado civil de maneira mais flexível?\n",
        "\n",
        "\"S\", \"C\", \"D\", \"V\", sem a necessidade do usuário digitar com a capitalização correta."
      ]
    },
    {
      "cell_type": "markdown",
      "metadata": {
        "id": "bEZ5wxrRowU0"
      },
      "source": [
        "____\n",
        "____\n",
        "____"
      ]
    },
    {
      "cell_type": "code",
      "execution_count": 1,
      "metadata": {},
      "outputs": [
        {
          "name": "stdout",
          "output_type": "stream",
          "text": [
            "Marcos\n"
          ]
        }
      ],
      "source": [
        "dado = input(\"Digite uma palavra\").capitalize()\n",
        "\n",
        "print(dado)"
      ]
    },
    {
      "cell_type": "markdown",
      "metadata": {
        "id": "3vLU6XLbowU2"
      },
      "source": [
        "## 1) Strings\n",
        "\n",
        "Desde a primeira aula, temos trabalhado com strings, que, como vimos, representam **dados textuais**\n",
        "\n",
        "Vamos, agora, olhar pra strings um pouco mais a fundo, e aprender algumas funções para trabalharmos com strings"
      ]
    },
    {
      "cell_type": "markdown",
      "metadata": {
        "id": "ocU8gfV2owU3"
      },
      "source": [
        "Uma string nada mais é do que uma **coleção de caracteres**!\n",
        "\n",
        "Assim, podemos acessar caracteres específicos ou então um intervalo de caracteres de uma string, como se fosse uma lista!\n",
        "\n",
        "**OBS.: Para strings também, o índice começa em 0, e podemos usar índices negativos!**"
      ]
    },
    {
      "cell_type": "code",
      "execution_count": null,
      "metadata": {
        "id": "YpzMx2AHowU4"
      },
      "outputs": [],
      "source": [
        "nome = \"André\""
      ]
    },
    {
      "cell_type": "code",
      "execution_count": null,
      "metadata": {
        "colab": {
          "base_uri": "https://localhost:8080/",
          "height": 35
        },
        "id": "3x9dZg4rZ1lz",
        "outputId": "63960bd8-2cb6-47ad-ca68-cb634252f560"
      },
      "outputs": [
        {
          "data": {
            "application/vnd.google.colaboratory.intrinsic+json": {
              "type": "string"
            },
            "text/plain": [
              "'A'"
            ]
          },
          "execution_count": 2,
          "metadata": {},
          "output_type": "execute_result"
        }
      ],
      "source": [
        "nome[0]"
      ]
    },
    {
      "cell_type": "code",
      "execution_count": null,
      "metadata": {
        "colab": {
          "base_uri": "https://localhost:8080/",
          "height": 35
        },
        "id": "VYFzopZEaBvv",
        "outputId": "23b5790d-a217-4203-dd70-368953defb78"
      },
      "outputs": [
        {
          "data": {
            "application/vnd.google.colaboratory.intrinsic+json": {
              "type": "string"
            },
            "text/plain": [
              "'é'"
            ]
          },
          "execution_count": 4,
          "metadata": {},
          "output_type": "execute_result"
        }
      ],
      "source": [
        "nome[-1]"
      ]
    },
    {
      "cell_type": "markdown",
      "metadata": {
        "id": "7nddixnFowU5"
      },
      "source": [
        "Para saber o comprimento de uma string (quantos caracteres ela tem, incluindo espaços e pontuações), use a função len():"
      ]
    },
    {
      "cell_type": "code",
      "execution_count": null,
      "metadata": {
        "colab": {
          "base_uri": "https://localhost:8080/"
        },
        "id": "VB0NSofwowU5",
        "outputId": "4dab4ab2-2332-484f-9db1-cd965c32f557"
      },
      "outputs": [
        {
          "data": {
            "text/plain": [
              "5"
            ]
          },
          "execution_count": 5,
          "metadata": {},
          "output_type": "execute_result"
        }
      ],
      "source": [
        "len(nome)"
      ]
    },
    {
      "cell_type": "markdown",
      "metadata": {
        "id": "zN7NBJ8ZowU6"
      },
      "source": [
        "Podemos também percorrer cada caractere da string com o `for` -- strings são objetos **iteráveis**:"
      ]
    },
    {
      "cell_type": "code",
      "execution_count": null,
      "metadata": {
        "colab": {
          "base_uri": "https://localhost:8080/"
        },
        "id": "xDZx5ifgowU7",
        "outputId": "8919a87c-2872-43cc-926b-817c6e6689dd"
      },
      "outputs": [
        {
          "name": "stdout",
          "output_type": "stream",
          "text": [
            "A\n",
            "n\n",
            "d\n",
            "r\n",
            "é\n"
          ]
        }
      ],
      "source": [
        "for caractere in nome:\n",
        "  print(caractere)"
      ]
    },
    {
      "cell_type": "markdown",
      "metadata": {
        "id": "1-lY3ojYowU8"
      },
      "source": [
        "Dá pra fazer o mesmo com o range() e o len():"
      ]
    },
    {
      "cell_type": "code",
      "execution_count": null,
      "metadata": {
        "colab": {
          "base_uri": "https://localhost:8080/"
        },
        "id": "WqPcAOEeowU9",
        "outputId": "18a1daac-ccef-4f27-9d19-54bf96656b21"
      },
      "outputs": [
        {
          "name": "stdout",
          "output_type": "stream",
          "text": [
            "A\n",
            "n\n",
            "d\n",
            "r\n",
            "é\n"
          ]
        }
      ],
      "source": [
        "for i in range(len(nome)):\n",
        "  print(nome[i])"
      ]
    },
    {
      "cell_type": "markdown",
      "metadata": {
        "id": "2855zkXCowU-"
      },
      "source": [
        "Apesar de se parecer com uma lista, a string não tem exatamente as propriedades de uma lista. Por exemplo, **não podemos alterar** caracteres individualmente:"
      ]
    },
    {
      "cell_type": "code",
      "execution_count": null,
      "metadata": {
        "colab": {
          "base_uri": "https://localhost:8080/"
        },
        "id": "uyxhhSuGowU_",
        "outputId": "bd5d40d7-6f99-405d-e13f-e585291be5d9"
      },
      "outputs": [
        {
          "data": {
            "text/plain": [
              "[1, 2, 5]"
            ]
          },
          "execution_count": 8,
          "metadata": {},
          "output_type": "execute_result"
        }
      ],
      "source": [
        "lista = [1, 2, 3]\n",
        "\n",
        "lista[-1] = 5\n",
        "\n",
        "lista"
      ]
    },
    {
      "cell_type": "code",
      "execution_count": null,
      "metadata": {
        "colab": {
          "base_uri": "https://localhost:8080/",
          "height": 35
        },
        "id": "EjGZLcGUa0Cc",
        "outputId": "a930eb44-557e-4ff2-bc8e-21e839921527"
      },
      "outputs": [
        {
          "data": {
            "application/vnd.google.colaboratory.intrinsic+json": {
              "type": "string"
            },
            "text/plain": [
              "'André'"
            ]
          },
          "execution_count": 12,
          "metadata": {},
          "output_type": "execute_result"
        }
      ],
      "source": [
        "nome"
      ]
    },
    {
      "cell_type": "code",
      "execution_count": null,
      "metadata": {
        "colab": {
          "base_uri": "https://localhost:8080/",
          "height": 167
        },
        "id": "-6T0Wq9Za51z",
        "outputId": "56f67575-a9d7-4228-d503-f6ecc31a3af2"
      },
      "outputs": [
        {
          "ename": "TypeError",
          "evalue": "ignored",
          "output_type": "error",
          "traceback": [
            "\u001b[0;31m---------------------------------------------------------------------------\u001b[0m",
            "\u001b[0;31mTypeError\u001b[0m                                 Traceback (most recent call last)",
            "\u001b[0;32m<ipython-input-14-7022fc079559>\u001b[0m in \u001b[0;36m<module>\u001b[0;34m\u001b[0m\n\u001b[0;32m----> 1\u001b[0;31m \u001b[0mnome\u001b[0m\u001b[0;34m[\u001b[0m\u001b[0;34m-\u001b[0m\u001b[0;36m1\u001b[0m\u001b[0;34m]\u001b[0m \u001b[0;34m=\u001b[0m \u001b[0;34m\"E\"\u001b[0m\u001b[0;34m\u001b[0m\u001b[0;34m\u001b[0m\u001b[0m\n\u001b[0m",
            "\u001b[0;31mTypeError\u001b[0m: 'str' object does not support item assignment"
          ]
        }
      ],
      "source": [
        "nome[-1] = \"E\""
      ]
    },
    {
      "cell_type": "markdown",
      "metadata": {
        "id": "zBPhHOlUowU_"
      },
      "source": [
        "Mas nós conseguimos **alterar caracteres (ou palavras)** com o método \"replace()\":"
      ]
    },
    {
      "cell_type": "code",
      "execution_count": null,
      "metadata": {
        "colab": {
          "base_uri": "https://localhost:8080/",
          "height": 35
        },
        "id": "_7dUDhNKowVA",
        "outputId": "8b66db89-13a1-4d1c-8dde-a7ede2a9fe10"
      },
      "outputs": [
        {
          "data": {
            "application/vnd.google.colaboratory.intrinsic+json": {
              "type": "string"
            },
            "text/plain": [
              "'AndrE'"
            ]
          },
          "execution_count": 15,
          "metadata": {},
          "output_type": "execute_result"
        }
      ],
      "source": [
        "nome.replace(\"é\", \"E\")"
      ]
    },
    {
      "cell_type": "code",
      "execution_count": null,
      "metadata": {
        "colab": {
          "base_uri": "https://localhost:8080/",
          "height": 35
        },
        "id": "UhMgxHyRbOdw",
        "outputId": "77aea787-ab6a-49cb-8c5a-bf7360681256"
      },
      "outputs": [
        {
          "data": {
            "application/vnd.google.colaboratory.intrinsic+json": {
              "type": "string"
            },
            "text/plain": [
              "'André'"
            ]
          },
          "execution_count": 16,
          "metadata": {},
          "output_type": "execute_result"
        }
      ],
      "source": [
        "nome"
      ]
    },
    {
      "cell_type": "code",
      "execution_count": null,
      "metadata": {
        "id": "UesxanzgbQp_"
      },
      "outputs": [],
      "source": [
        "nome = nome.replace(\"é\", \"E\")"
      ]
    },
    {
      "cell_type": "code",
      "execution_count": null,
      "metadata": {
        "colab": {
          "base_uri": "https://localhost:8080/",
          "height": 35
        },
        "id": "3DPM3kC2bWwk",
        "outputId": "7bfdb837-1488-4961-9160-42fb7099112c"
      },
      "outputs": [
        {
          "data": {
            "application/vnd.google.colaboratory.intrinsic+json": {
              "type": "string"
            },
            "text/plain": [
              "'AndrE'"
            ]
          },
          "execution_count": 18,
          "metadata": {},
          "output_type": "execute_result"
        }
      ],
      "source": [
        "nome"
      ]
    },
    {
      "cell_type": "markdown",
      "metadata": {
        "id": "BLN0FW8SowVB"
      },
      "source": [
        "Podemos **transformar uma string em uma lista de caracteres**, explicitamente, usando a fução \"list()\""
      ]
    },
    {
      "cell_type": "code",
      "execution_count": null,
      "metadata": {
        "id": "ZgaUi_lxowVB"
      },
      "outputs": [],
      "source": [
        "nome = \"André\"\n",
        "\n",
        "nome_lista = list(nome)"
      ]
    },
    {
      "cell_type": "markdown",
      "metadata": {
        "id": "NEdzFFUQowVC"
      },
      "source": [
        "Agora sim, podemos alterar um elemento da lista:"
      ]
    },
    {
      "cell_type": "code",
      "execution_count": null,
      "metadata": {
        "id": "SKapyW5EowVD"
      },
      "outputs": [],
      "source": [
        "nome_lista[-1] = \"E\""
      ]
    },
    {
      "cell_type": "code",
      "execution_count": null,
      "metadata": {
        "colab": {
          "base_uri": "https://localhost:8080/"
        },
        "id": "wLcNXi12byQy",
        "outputId": "ffbaa84c-dc88-4130-a50d-5c1b06169eee"
      },
      "outputs": [
        {
          "data": {
            "text/plain": [
              "['A', 'n', 'd', 'r', 'E']"
            ]
          },
          "execution_count": 28,
          "metadata": {},
          "output_type": "execute_result"
        }
      ],
      "source": [
        "nome_lista"
      ]
    },
    {
      "cell_type": "markdown",
      "metadata": {
        "id": "H2aXPvLZowVD"
      },
      "source": [
        "E, pra trasnformar a lista de volta pra string, usamos a função \"join()\":"
      ]
    },
    {
      "cell_type": "code",
      "execution_count": null,
      "metadata": {
        "colab": {
          "base_uri": "https://localhost:8080/"
        },
        "id": "1BO7hDgRcCtJ",
        "outputId": "bcd66279-eff4-4938-8575-fbeb58a246b2"
      },
      "outputs": [
        {
          "data": {
            "text/plain": [
              "['A', 'n', 'd', 'r', 'E']"
            ]
          },
          "execution_count": 31,
          "metadata": {},
          "output_type": "execute_result"
        }
      ],
      "source": [
        "nome_lista"
      ]
    },
    {
      "cell_type": "code",
      "execution_count": null,
      "metadata": {
        "colab": {
          "base_uri": "https://localhost:8080/",
          "height": 35
        },
        "id": "Egn5wGnFowVD",
        "outputId": "f864a0c9-fb9d-4d1a-e64d-d592eb1b6aa2"
      },
      "outputs": [
        {
          "data": {
            "application/vnd.google.colaboratory.intrinsic+json": {
              "type": "string"
            },
            "text/plain": [
              "'AndrE'"
            ]
          },
          "execution_count": 36,
          "metadata": {},
          "output_type": "execute_result"
        }
      ],
      "source": [
        "\"\".join(nome_lista)"
      ]
    },
    {
      "cell_type": "code",
      "execution_count": null,
      "metadata": {
        "colab": {
          "base_uri": "https://localhost:8080/",
          "height": 35
        },
        "id": "5Z3UskqHcV6J",
        "outputId": "8f754656-aeec-48fa-c9d1-a8503e83c896"
      },
      "outputs": [
        {
          "data": {
            "application/vnd.google.colaboratory.intrinsic+json": {
              "type": "string"
            },
            "text/plain": [
              "'A_n_d_r_E'"
            ]
          },
          "execution_count": 37,
          "metadata": {},
          "output_type": "execute_result"
        }
      ],
      "source": [
        "\"_\".join(nome_lista)"
      ]
    },
    {
      "cell_type": "markdown",
      "metadata": {
        "id": "SUnpARuGowVE"
      },
      "source": [
        "Como já vimos, podemos fazer **operações com strings**!"
      ]
    },
    {
      "cell_type": "markdown",
      "metadata": {
        "id": "ghHp5g14owVF"
      },
      "source": [
        "Soma de strings: ao somar duas strings, elas são concatenadas:"
      ]
    },
    {
      "cell_type": "code",
      "execution_count": null,
      "metadata": {
        "colab": {
          "base_uri": "https://localhost:8080/",
          "height": 35
        },
        "id": "m5vYvSGoowVK",
        "outputId": "fe5c9959-eff0-4b5a-a7eb-a995fb40e204"
      },
      "outputs": [
        {
          "data": {
            "application/vnd.google.colaboratory.intrinsic+json": {
              "type": "string"
            },
            "text/plain": [
              "'ab'"
            ]
          },
          "execution_count": 38,
          "metadata": {},
          "output_type": "execute_result"
        }
      ],
      "source": [
        "\"a\" + \"b\""
      ]
    },
    {
      "cell_type": "markdown",
      "metadata": {
        "id": "Nyb6fdvCowVL"
      },
      "source": [
        "Multiplicação de string por inteiro: ao multiplicar uma string por um número inteiro, a string é repetida:"
      ]
    },
    {
      "cell_type": "code",
      "execution_count": null,
      "metadata": {
        "colab": {
          "base_uri": "https://localhost:8080/",
          "height": 35
        },
        "id": "tqVUTQBZowVM",
        "outputId": "693fb61f-3baa-4826-aec8-d2e9ee5a613f"
      },
      "outputs": [
        {
          "data": {
            "application/vnd.google.colaboratory.intrinsic+json": {
              "type": "string"
            },
            "text/plain": [
              "'abcabcabcabcabc'"
            ]
          },
          "execution_count": 40,
          "metadata": {},
          "output_type": "execute_result"
        }
      ],
      "source": [
        "\"abc\"*5"
      ]
    },
    {
      "cell_type": "code",
      "execution_count": null,
      "metadata": {
        "colab": {
          "base_uri": "https://localhost:8080/"
        },
        "id": "wYiVt0tVcxos",
        "outputId": "24435ee9-8aaa-4dc1-83aa-c0e714bc61eb"
      },
      "outputs": [
        {
          "name": "stdout",
          "output_type": "stream",
          "text": [
            "==================================================\n",
            "            OLÁ, BEM-VINDOS À ADA TECH            \n",
            "==================================================\n"
          ]
        }
      ],
      "source": [
        "print(\"=\"*50)\n",
        "print(\"OLÁ, BEM-VINDOS À ADA TECH\".center(50))\n",
        "print(\"=\"*50)"
      ]
    },
    {
      "cell_type": "code",
      "execution_count": null,
      "metadata": {
        "colab": {
          "base_uri": "https://localhost:8080/",
          "height": 35
        },
        "id": "8OQ1PIpgdTL-",
        "outputId": "73d743a9-bfd9-4916-953a-ed13a75f4ecf"
      },
      "outputs": [
        {
          "data": {
            "application/vnd.google.colaboratory.intrinsic+json": {
              "type": "string"
            },
            "text/plain": [
              "'            OLÁ, BEM-VINDOS À ADA TECH            '"
            ]
          },
          "execution_count": 48,
          "metadata": {},
          "output_type": "execute_result"
        }
      ],
      "source": [
        "\"OLÁ, BEM-VINDOS À ADA TECH\".center(50)"
      ]
    },
    {
      "cell_type": "markdown",
      "metadata": {
        "id": "uFz834LaowVM"
      },
      "source": [
        "__________\n",
        "__________\n",
        "__________"
      ]
    },
    {
      "cell_type": "markdown",
      "metadata": {
        "id": "ptDc5JUJowVM"
      },
      "source": [
        "## 2) Funções de strings\n",
        "\n",
        "Como listas, strings também têm algumas funções específicas. Algumas delas são:"
      ]
    },
    {
      "cell_type": "code",
      "execution_count": null,
      "metadata": {
        "id": "j3AtyxvMdwl2"
      },
      "outputs": [],
      "source": [
        "boas_vindas_ada = \"Bem vindos à Ada!\""
      ]
    },
    {
      "cell_type": "markdown",
      "metadata": {
        "id": "G_hzKE8xowVM"
      },
      "source": [
        ".upper(): transforma todos os caracteres em maiúscula"
      ]
    },
    {
      "cell_type": "code",
      "execution_count": null,
      "metadata": {
        "colab": {
          "base_uri": "https://localhost:8080/",
          "height": 35
        },
        "id": "Na-19RqAowVN",
        "outputId": "241019c4-5374-492a-8ded-015693aef7d5"
      },
      "outputs": [
        {
          "data": {
            "application/vnd.google.colaboratory.intrinsic+json": {
              "type": "string"
            },
            "text/plain": [
              "'BEM VINDOS À ADA!'"
            ]
          },
          "execution_count": 52,
          "metadata": {},
          "output_type": "execute_result"
        }
      ],
      "source": [
        "boas_vindas_ada.upper()"
      ]
    },
    {
      "cell_type": "markdown",
      "metadata": {
        "id": "abrD2mXYowVN"
      },
      "source": [
        ".lower(): trasnforma todos os caracteres em minúscula"
      ]
    },
    {
      "cell_type": "code",
      "execution_count": null,
      "metadata": {
        "colab": {
          "base_uri": "https://localhost:8080/",
          "height": 35
        },
        "id": "aVuPRXRcowVO",
        "outputId": "808d78dc-51f7-4363-fddc-8b29d452613f"
      },
      "outputs": [
        {
          "data": {
            "application/vnd.google.colaboratory.intrinsic+json": {
              "type": "string"
            },
            "text/plain": [
              "'bem vindos à ada!'"
            ]
          },
          "execution_count": 53,
          "metadata": {},
          "output_type": "execute_result"
        }
      ],
      "source": [
        "boas_vindas_ada.lower()"
      ]
    },
    {
      "cell_type": "markdown",
      "metadata": {
        "id": "jHq9Fru2owVP"
      },
      "source": [
        ".title(): deixa a primeira letra de cada palavra em maiúscula"
      ]
    },
    {
      "cell_type": "code",
      "execution_count": null,
      "metadata": {
        "colab": {
          "base_uri": "https://localhost:8080/",
          "height": 35
        },
        "id": "CGWK5yocowVP",
        "outputId": "948d1afb-501d-416b-8ee2-beda79830825"
      },
      "outputs": [
        {
          "data": {
            "application/vnd.google.colaboratory.intrinsic+json": {
              "type": "string"
            },
            "text/plain": [
              "'Bem Vindos À Ada!'"
            ]
          },
          "execution_count": 54,
          "metadata": {},
          "output_type": "execute_result"
        }
      ],
      "source": [
        "boas_vindas_ada.title()"
      ]
    },
    {
      "cell_type": "markdown",
      "metadata": {
        "id": "bysaG1RcowVQ"
      },
      "source": [
        ".capitalize(): deixa a primeira letra da primeira palavra em maiúscula"
      ]
    },
    {
      "cell_type": "code",
      "execution_count": null,
      "metadata": {
        "colab": {
          "base_uri": "https://localhost:8080/",
          "height": 35
        },
        "id": "QREheJy9owVQ",
        "outputId": "1b17489f-cb1e-4098-f9dd-d4e2c760654f"
      },
      "outputs": [
        {
          "data": {
            "application/vnd.google.colaboratory.intrinsic+json": {
              "type": "string"
            },
            "text/plain": [
              "'Bem vindos à ada!'"
            ]
          },
          "execution_count": 55,
          "metadata": {},
          "output_type": "execute_result"
        }
      ],
      "source": [
        "boas_vindas_ada.capitalize()"
      ]
    },
    {
      "cell_type": "markdown",
      "metadata": {
        "id": "7FLvZWogowVR"
      },
      "source": [
        "É possível quebrar uma string em determinado caractere, tendo como resultado uma **lista com os caracteres além da quebra**.\n",
        "\n",
        "- Para quebrar nos espaços, use a função \".split()\", sem argumento"
      ]
    },
    {
      "cell_type": "code",
      "execution_count": null,
      "metadata": {
        "colab": {
          "base_uri": "https://localhost:8080/"
        },
        "id": "NWFCH-GqowVR",
        "outputId": "8f78cf75-4954-43d7-dd28-c3bbae542877"
      },
      "outputs": [
        {
          "data": {
            "text/plain": [
              "['B',\n",
              " 'e',\n",
              " 'm',\n",
              " ' ',\n",
              " 'v',\n",
              " 'i',\n",
              " 'n',\n",
              " 'd',\n",
              " 'o',\n",
              " 's',\n",
              " ' ',\n",
              " 'à',\n",
              " ' ',\n",
              " 'A',\n",
              " 'd',\n",
              " 'a',\n",
              " '!']"
            ]
          },
          "execution_count": 56,
          "metadata": {},
          "output_type": "execute_result"
        }
      ],
      "source": [
        "list(boas_vindas_ada)"
      ]
    },
    {
      "cell_type": "code",
      "execution_count": null,
      "metadata": {
        "colab": {
          "base_uri": "https://localhost:8080/",
          "height": 35
        },
        "id": "IO2w2tX2eeXL",
        "outputId": "6e773a45-6935-4455-b98b-ac3f2d592f64"
      },
      "outputs": [
        {
          "data": {
            "application/vnd.google.colaboratory.intrinsic+json": {
              "type": "string"
            },
            "text/plain": [
              "'Bem vindos à Ada!'"
            ]
          },
          "execution_count": 58,
          "metadata": {},
          "output_type": "execute_result"
        }
      ],
      "source": [
        "boas_vindas_ada"
      ]
    },
    {
      "cell_type": "code",
      "execution_count": null,
      "metadata": {
        "colab": {
          "base_uri": "https://localhost:8080/"
        },
        "id": "KWKhURbfeXBs",
        "outputId": "8d2bdecf-1708-443e-de14-d3919dcd2abe"
      },
      "outputs": [
        {
          "data": {
            "text/plain": [
              "['Bem', 'vindos', 'à', 'Ada!']"
            ]
          },
          "execution_count": 57,
          "metadata": {},
          "output_type": "execute_result"
        }
      ],
      "source": [
        "boas_vindas_ada.split()"
      ]
    },
    {
      "cell_type": "markdown",
      "metadata": {
        "id": "2q6KIPUnowVR"
      },
      "source": [
        "- Para quebrar em algum caracter, use o caractere como argumento:"
      ]
    },
    {
      "cell_type": "code",
      "execution_count": null,
      "metadata": {
        "colab": {
          "base_uri": "https://localhost:8080/"
        },
        "id": "LQ5HRn5powVS",
        "outputId": "360ac786-d042-4c09-ad1e-21350f28eb3d"
      },
      "outputs": [
        {
          "data": {
            "text/plain": [
              "['Bem vi', 'dos à Ada!']"
            ]
          },
          "execution_count": 59,
          "metadata": {},
          "output_type": "execute_result"
        }
      ],
      "source": [
        "boas_vindas_ada.split(\"n\")"
      ]
    },
    {
      "cell_type": "code",
      "execution_count": null,
      "metadata": {
        "colab": {
          "base_uri": "https://localhost:8080/"
        },
        "id": "oWl7dpYsfE11",
        "outputId": "e0b4a341-776b-437b-f4e6-d8d7a5ed072b"
      },
      "outputs": [
        {
          "data": {
            "text/plain": [
              "['eu g', 'st', ' de estudar pyth', 'n']"
            ]
          },
          "execution_count": 62,
          "metadata": {},
          "output_type": "execute_result"
        }
      ],
      "source": [
        "string = \"eu gosto de estudar python\"\n",
        "\n",
        "string.split(\"o\")"
      ]
    },
    {
      "cell_type": "markdown",
      "metadata": {
        "id": "2-I-XBN6owVS"
      },
      "source": [
        "__Tirar espaços que tão sobrando no fim e no início da string__\n",
        "\n",
        "Utilize a função strip()"
      ]
    },
    {
      "cell_type": "code",
      "execution_count": null,
      "metadata": {
        "colab": {
          "base_uri": "https://localhost:8080/",
          "height": 35
        },
        "id": "EdxP6ItrowVS",
        "outputId": "537a4759-5249-4455-e89c-3b7aa52b9cef"
      },
      "outputs": [
        {
          "data": {
            "application/vnd.google.colaboratory.intrinsic+json": {
              "type": "string"
            },
            "text/plain": [
              "'eu gosto de estudar python'"
            ]
          },
          "execution_count": 63,
          "metadata": {},
          "output_type": "execute_result"
        }
      ],
      "source": [
        "string = \"            eu gosto de estudar python   \"\n",
        "\n",
        "string.strip()"
      ]
    },
    {
      "cell_type": "markdown",
      "metadata": {
        "id": "46TqiJ1jowVS"
      },
      "source": [
        "Mas essa função não elimina espaços extrar no \"meio\" da string -- apenas no início e no fim!"
      ]
    },
    {
      "cell_type": "code",
      "execution_count": null,
      "metadata": {
        "colab": {
          "base_uri": "https://localhost:8080/",
          "height": 35
        },
        "id": "TdxDol0WowVS",
        "outputId": "8ed41757-f98b-42df-e46b-a4426b0b8ced"
      },
      "outputs": [
        {
          "data": {
            "application/vnd.google.colaboratory.intrinsic+json": {
              "type": "string"
            },
            "text/plain": [
              "'eu    gosto de         estudar python'"
            ]
          },
          "execution_count": 64,
          "metadata": {},
          "output_type": "execute_result"
        }
      ],
      "source": [
        "string = \"            eu    gosto de         estudar python   \"\n",
        "\n",
        "string.strip()"
      ]
    },
    {
      "cell_type": "markdown",
      "metadata": {
        "id": "juN96USDowVS"
      },
      "source": [
        "__Pra tirar espaços do meio, podemos fazer:__"
      ]
    },
    {
      "cell_type": "code",
      "execution_count": null,
      "metadata": {
        "colab": {
          "base_uri": "https://localhost:8080/",
          "height": 35
        },
        "id": "L-lv6Hp0fyxd",
        "outputId": "c25ee56b-159d-4f10-d442-81bb42418163"
      },
      "outputs": [
        {
          "data": {
            "application/vnd.google.colaboratory.intrinsic+json": {
              "type": "string"
            },
            "text/plain": [
              "'            eu    gosto de         estudar python   '"
            ]
          },
          "execution_count": 66,
          "metadata": {},
          "output_type": "execute_result"
        }
      ],
      "source": [
        "string"
      ]
    },
    {
      "cell_type": "code",
      "execution_count": null,
      "metadata": {
        "colab": {
          "base_uri": "https://localhost:8080/",
          "height": 35
        },
        "id": "edYL2kzDowVT",
        "outputId": "cd6fe870-a10f-4d8d-8c0d-a19858ebc6cb"
      },
      "outputs": [
        {
          "data": {
            "application/vnd.google.colaboratory.intrinsic+json": {
              "type": "string"
            },
            "text/plain": [
              "'eu gosto de estudar python'"
            ]
          },
          "execution_count": 68,
          "metadata": {},
          "output_type": "execute_result"
        }
      ],
      "source": [
        "lista_str = string.split()\n",
        "\n",
        "\" \".join(lista_str)"
      ]
    },
    {
      "cell_type": "code",
      "execution_count": null,
      "metadata": {
        "colab": {
          "base_uri": "https://localhost:8080/",
          "height": 35
        },
        "id": "oUairP9Mf_DK",
        "outputId": "2dab65f8-b802-4fe1-e3a0-916012ee431d"
      },
      "outputs": [
        {
          "data": {
            "application/vnd.google.colaboratory.intrinsic+json": {
              "type": "string"
            },
            "text/plain": [
              "'eu gosto de estudar python'"
            ]
          },
          "execution_count": 69,
          "metadata": {},
          "output_type": "execute_result"
        }
      ],
      "source": [
        "# limpar espaços a mais (duplicados) do começo, meio e fim da string\n",
        "\" \".join(string.split())"
      ]
    },
    {
      "cell_type": "markdown",
      "metadata": {
        "id": "29pShqyhowVU"
      },
      "source": [
        "Outras funções interessantes...\n",
        "\n",
        "- isdigit()\n",
        "- isalpha()\n",
        "- isalnum()\n",
        "- isspace()"
      ]
    },
    {
      "cell_type": "code",
      "execution_count": null,
      "metadata": {
        "colab": {
          "base_uri": "https://localhost:8080/"
        },
        "id": "4mU-bNLgowVV",
        "outputId": "576f0a66-038e-47a2-97ee-6f3e2ef7c2d5"
      },
      "outputs": [
        {
          "name": "stdout",
          "output_type": "stream",
          "text": [
            "['e', 'l', 'e', 'd', 'i', 's', 's', 'e', 'p', 'a', 'r', 'a', 'o', 'c', 'o', 'l', 'e', 'g', 'a', 'n', 'o', 's', 'e', 'n', 'c', 'o', 'n', 't', 'r', 'a', 'm', 'o', 's', 'a', 'm', 'a', 'n', 'h', 'ã', 'à', 's']\n",
            "['1', '4', '0', '0']\n",
            "[' ', ' ', ' ', ' ', ':', ' ', \"'\", ' ', ' ', ' ', ' ', ':', '?', '?', \"'\"]\n"
          ]
        }
      ],
      "source": [
        "fala = \"ele disse para o colega: 'nos encontramos amanhã às 14:00??'\"\n",
        "\n",
        "lista_de_letras = []\n",
        "lista_de_numeros = []\n",
        "lista_de_simbolos = []\n",
        "\n",
        "for char in fala:\n",
        "  if char.isalpha():\n",
        "    lista_de_letras.append(char)\n",
        "  elif char.isdigit():\n",
        "    lista_de_numeros.append(char)\n",
        "  else:\n",
        "    lista_de_simbolos.append(char)\n",
        "\n",
        "print(lista_de_letras)\n",
        "print(lista_de_numeros)\n",
        "print(lista_de_simbolos)"
      ]
    },
    {
      "cell_type": "markdown",
      "metadata": {
        "id": "6PZeByAkowVW"
      },
      "source": [
        "___\n",
        "___"
      ]
    },
    {
      "cell_type": "markdown",
      "metadata": {
        "id": "hf2PXiewowVW"
      },
      "source": [
        "### 2.1) Formatação de strings\n",
        "\n",
        "Também podemos **formatar strings**. Isso pode ser super útil tanto ao receber dados do usuário (input) quando ao exbibir dados pro usuário (print)"
      ]
    },
    {
      "cell_type": "markdown",
      "metadata": {
        "id": "HcAGNph_owVW"
      },
      "source": [
        "Um dos usos mais legal do format é para **exibir** strings formatadas.\n",
        "\n",
        "Imagine que você queira exibir uma data no formato dd/mm/aaaa.\n",
        "\n",
        "Em situações normais, dias e meses inferiores a 10 apareceriam com apenas 1 dígito (int não é representado com zeros à esquerda). Porém, podemos especificar no format que gostaríamos de representar um inteiro com 2 dígitos, preenchendo com zero dígitos em branco (à esquerda):\n",
        "\n",
        "```python\n",
        "\n",
        "dia = 1\n",
        "mes = 2\n",
        "ano = 2020\n",
        "data = '{:02d}/{:02d}/{:04d}'.format(dia, mes, ano)\n",
        "print(data) # resultado: 01/02/2020\n",
        "```\n",
        "\n",
        "O símbolo 'd' indica que estamos representando números **inteiros** em base decimal (dígitos de 0 a 9).\n",
        "\n",
        "Os símbolos '2' e '4' indicam, respectivamente, 2 dígitos ou 4 dígitos.\n",
        "\n",
        "o símbolo '0' indica que se faltar dígitos, os espaços devem ser preenchidos com zero"
      ]
    },
    {
      "cell_type": "code",
      "execution_count": 3,
      "metadata": {
        "colab": {
          "base_uri": "https://localhost:8080/"
        },
        "id": "SnZ7AP0IowVX",
        "outputId": "10f3ec4f-7aa0-455b-9b19-b5a9bb7ee1c7"
      },
      "outputs": [
        {
          "name": "stdout",
          "output_type": "stream",
          "text": [
            "1/2/2020\n"
          ]
        }
      ],
      "source": [
        "dia, mes, ano = 1, 2, 2020\n",
        "\n",
        "print(dia, \"/\",  mes, \"/\", ano, sep=\"\")"
      ]
    },
    {
      "cell_type": "code",
      "execution_count": null,
      "metadata": {
        "colab": {
          "base_uri": "https://localhost:8080/"
        },
        "id": "3BMNkgaMizCg",
        "outputId": "8f45580f-d30f-454e-c48e-7fe7f0c15c31"
      },
      "outputs": [
        {
          "name": "stdout",
          "output_type": "stream",
          "text": [
            "01/02/2020\n"
          ]
        }
      ],
      "source": [
        "dia, mes, ano = 1, 2, 2020\n",
        "\n",
        "string_data = \"{:02d}/{:02d}/{:04d}\".format(dia, mes, ano)\n",
        "\n",
        "print(string_data)"
      ]
    },
    {
      "cell_type": "markdown",
      "metadata": {
        "id": "FYcagJwyowVX"
      },
      "source": [
        "Imagina que você queira exibir algum valor monetário, por exemplo, o preço de alguma coisa.\n",
        "\n",
        "Utilizando float, pode ser que seu resultado tenha apenas uma casa decimal.\n",
        "\n",
        "Mas, se tratando de dinheito, sempre queremos mostrar duas casas decimais!\n",
        "\n",
        "Usaremos o format para representar com apenas 2 casas.\n",
        "\n",
        "```python\n",
        "preco = 1500.5\n",
        "\n",
        "print(preco)\n",
        "\n",
        "precoFinal = 'R$ {:.2f}'.format(preco)\n",
        "\n",
        "print(precoFinal)\n",
        "```\n",
        "\n",
        "Neste caso, o 'f' indica que o número é float.\n",
        "\n",
        "Já o '.2' indica que queremos 2 casas após o ponto decimal.\n",
        "\n",
        "Note que a função não apenas descarta as casas excedentes, e sim arredonda corretamente o número."
      ]
    },
    {
      "cell_type": "code",
      "execution_count": null,
      "metadata": {
        "colab": {
          "base_uri": "https://localhost:8080/"
        },
        "id": "nfo1LUPIowVX",
        "outputId": "a8165116-cc22-41f9-9496-db90712ddc17"
      },
      "outputs": [
        {
          "name": "stdout",
          "output_type": "stream",
          "text": [
            "Preço: R$ 1499.5\n"
          ]
        }
      ],
      "source": [
        "preco = 1499.50\n",
        "\n",
        "print(\"Preço: R$\", preco)"
      ]
    },
    {
      "cell_type": "code",
      "execution_count": null,
      "metadata": {
        "colab": {
          "base_uri": "https://localhost:8080/",
          "height": 35
        },
        "id": "F-GT1a6fkDx-",
        "outputId": "29f60f8f-1df0-4e1f-de97-75029eda3b0f"
      },
      "outputs": [
        {
          "data": {
            "application/vnd.google.colaboratory.intrinsic+json": {
              "type": "string"
            },
            "text/plain": [
              "'2234.24'"
            ]
          },
          "execution_count": 98,
          "metadata": {},
          "output_type": "execute_result"
        }
      ],
      "source": [
        "preco = 2234.239564565432\n",
        "\n",
        "\"{:.2f}\".format(preco)"
      ]
    },
    {
      "cell_type": "code",
      "execution_count": null,
      "metadata": {
        "colab": {
          "base_uri": "https://localhost:8080/",
          "height": 35
        },
        "id": "6D47LiHVkeaG",
        "outputId": "e2ae667f-1f8f-4c9e-ea9e-a56144c8ecad"
      },
      "outputs": [
        {
          "data": {
            "application/vnd.google.colaboratory.intrinsic+json": {
              "type": "string"
            },
            "text/plain": [
              "'Preço: R$ 1499.50'"
            ]
          },
          "execution_count": 100,
          "metadata": {},
          "output_type": "execute_result"
        }
      ],
      "source": [
        "preco = 1499.50\n",
        "\n",
        "\"Preço: R$ {:.2f}\".format(preco)"
      ]
    },
    {
      "cell_type": "markdown",
      "metadata": {
        "id": "jUwoTG80owVX"
      },
      "source": [
        "Uma outra forma interessante de formatar strings é com a utilização das chamadas [f strings](https://docs.python.org/pt-br/3/tutorial/inputoutput.html#tut-f-strings).\n",
        "\n",
        "Esa formatação permite que coloquemos facilmente variáveis em strings, de maneira fluida! Essa construção é super útil sobretudo na construção de exibições mais complexas.\n",
        "\n",
        "Veja, abaixo, alguns exemplos!"
      ]
    },
    {
      "cell_type": "code",
      "execution_count": null,
      "metadata": {
        "colab": {
          "base_uri": "https://localhost:8080/",
          "height": 35
        },
        "id": "p5c-Zx6FowVY",
        "outputId": "9ca5b1e6-d067-4e7d-ad87-345fb969c050"
      },
      "outputs": [
        {
          "data": {
            "application/vnd.google.colaboratory.intrinsic+json": {
              "type": "string"
            },
            "text/plain": [
              "'Preço: R$ 1499.50'"
            ]
          },
          "execution_count": 101,
          "metadata": {},
          "output_type": "execute_result"
        }
      ],
      "source": [
        "\"Preço: R$ {:.2f}\".format(preco)"
      ]
    },
    {
      "cell_type": "code",
      "execution_count": null,
      "metadata": {
        "colab": {
          "base_uri": "https://localhost:8080/",
          "height": 35
        },
        "id": "x1nqXs_fkqM2",
        "outputId": "bbcc5e2e-592a-48e4-bb1e-19cb231acd99"
      },
      "outputs": [
        {
          "data": {
            "application/vnd.google.colaboratory.intrinsic+json": {
              "type": "string"
            },
            "text/plain": [
              "'Preço: R$ 1499.50'"
            ]
          },
          "execution_count": 106,
          "metadata": {},
          "output_type": "execute_result"
        }
      ],
      "source": [
        "f\"Preço: R$ {preco:.2f}\""
      ]
    },
    {
      "cell_type": "markdown",
      "metadata": {
        "id": "J6BqbNL1qi15"
      },
      "source": [
        "______________\n",
        "\n",
        "## Vamos agora resolver o problema gerador!"
      ]
    },
    {
      "cell_type": "code",
      "execution_count": null,
      "metadata": {
        "colab": {
          "base_uri": "https://localhost:8080/"
        },
        "id": "CRux6Cycl0lt",
        "outputId": "32c432f3-39c6-4445-b4d1-4bdc51388fa3"
      },
      "outputs": [
        {
          "data": {
            "text/plain": [
              "True"
            ]
          },
          "execution_count": 108,
          "metadata": {},
          "output_type": "execute_result"
        }
      ],
      "source": [
        "2 in [1, 2, 3]"
      ]
    },
    {
      "cell_type": "code",
      "execution_count": null,
      "metadata": {
        "colab": {
          "base_uri": "https://localhost:8080/"
        },
        "id": "h8sNE3gzmeHJ",
        "outputId": "f59ffee7-ebb2-4835-fc72-2f7a2b07dd34"
      },
      "outputs": [
        {
          "name": "stdout",
          "output_type": "stream",
          "text": [
            "Digite seu estado civil (opções possíveis: S, C, D, V): s\n",
            "S\n"
          ]
        }
      ],
      "source": [
        "estado_civil = input(\"Digite seu estado civil (opções possíveis: S, C, D, V): \").upper()\n",
        "\n",
        "print(estado_civil)"
      ]
    },
    {
      "cell_type": "code",
      "execution_count": 10,
      "metadata": {
        "colab": {
          "base_uri": "https://localhost:8080/"
        },
        "id": "Krs6OAirqluT",
        "outputId": "0619c87f-4ebd-4af9-82ce-685030b1a66f"
      },
      "outputs": [
        {
          "name": "stdout",
          "output_type": "stream",
          "text": [
            "Estado civil: S\n"
          ]
        }
      ],
      "source": [
        "estado_civil = input(\"Digite seu estado civil (opções possíveis: S, C, D, V): \").upper()[0]\n",
        "\n",
        "while estado_civil[0] not in [\"S\", \"C\", \"D\", \"V\"]:\n",
        "\n",
        "  estado_civil = input(\"Resposta inválida! Digite seu estado civil (opções possíveis: S, C, D, V): \").upper()[0]\n",
        "\n",
        "print(f\"Estado civil: {estado_civil}\")"
      ]
    },
    {
      "cell_type": "markdown",
      "metadata": {
        "id": "0xKQmPE4ne94"
      },
      "source": [
        "## Desafio: valide a entrada para que funcione até mesmo se o usuário digitar por extenso \"solteiro\", \"casado\", etc..."
      ]
    }
  ],
  "metadata": {
    "colab": {
      "provenance": []
    },
    "kernelspec": {
      "display_name": "Python 3",
      "language": "python",
      "name": "python3"
    },
    "language_info": {
      "codemirror_mode": {
        "name": "ipython",
        "version": 3
      },
      "file_extension": ".py",
      "mimetype": "text/x-python",
      "name": "python",
      "nbconvert_exporter": "python",
      "pygments_lexer": "ipython3",
      "version": "3.12.0"
    },
    "varInspector": {
      "cols": {
        "lenName": 16,
        "lenType": 16,
        "lenVar": 40
      },
      "kernels_config": {
        "python": {
          "delete_cmd_postfix": "",
          "delete_cmd_prefix": "del ",
          "library": "var_list.py",
          "varRefreshCmd": "print(var_dic_list())"
        },
        "r": {
          "delete_cmd_postfix": ") ",
          "delete_cmd_prefix": "rm(",
          "library": "var_list.r",
          "varRefreshCmd": "cat(var_dic_list()) "
        }
      },
      "types_to_exclude": [
        "module",
        "function",
        "builtin_function_or_method",
        "instance",
        "_Feature"
      ],
      "window_display": false
    }
  },
  "nbformat": 4,
  "nbformat_minor": 0
}
