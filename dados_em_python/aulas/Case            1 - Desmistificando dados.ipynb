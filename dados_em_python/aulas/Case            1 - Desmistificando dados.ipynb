{
  "cells": [
    {
      "cell_type": "markdown",
      "id": "170a008b-a519-48f3-9c9e-0bc9fbf05412",
      "metadata": {
        "id": "170a008b-a519-48f3-9c9e-0bc9fbf05412"
      },
      "source": [
        "## **Case: Dados de Desenvolvimento Econômico**"
      ]
    },
    {
      "cell_type": "markdown",
      "id": "d09f45e8-021c-42bf-af1f-88ae3e655678",
      "metadata": {
        "id": "d09f45e8-021c-42bf-af1f-88ae3e655678"
      },
      "source": [
        "----------------------------------"
      ]
    },
    {
      "cell_type": "markdown",
      "id": "104245c1-f48c-493c-a6bd-ad8e6190f25a",
      "metadata": {
        "id": "104245c1-f48c-493c-a6bd-ad8e6190f25a"
      },
      "source": [
        "**Estrutura do Notebook**\n",
        "* Import dos Dados\n",
        "* Tratamento dos Dados\n",
        "* Solução"
      ]
    },
    {
      "cell_type": "markdown",
      "id": "5354a613-c34f-4d03-8144-a2e8d8728e03",
      "metadata": {
        "id": "5354a613-c34f-4d03-8144-a2e8d8728e03"
      },
      "source": [
        "----------------------------------"
      ]
    },
    {
      "cell_type": "markdown",
      "id": "88686574-174a-478d-a9ab-8f11195189e0",
      "metadata": {
        "id": "88686574-174a-478d-a9ab-8f11195189e0"
      },
      "source": [
        "### **Import dos Dados**"
      ]
    },
    {
      "cell_type": "markdown",
      "id": "9f9810f7-84d8-4b1b-8f7c-f66044b63cb4",
      "metadata": {
        "id": "9f9810f7-84d8-4b1b-8f7c-f66044b63cb4"
      },
      "source": [
        "Para analisar dados em python, é recomendável instalar a biblioteca **Pandas**. Isso pode ser feito usando pip, o gerenciador de pacotes do Python. No Jupyter Notebook, eles podem executar o seguinte comando:"
      ]
    },
    {
      "cell_type": "code",
      "execution_count": 2,
      "id": "3bd03429-ba3d-4057-b48c-8b3da35b237d",
      "metadata": {
        "id": "3bd03429-ba3d-4057-b48c-8b3da35b237d",
        "outputId": "db5e689b-9426-4c7b-afc2-2a3454684c5b"
      },
      "outputs": [
        {
          "name": "stdout",
          "output_type": "stream",
          "text": [
            "Collecting pandas\n",
            "  Obtaining dependency information for pandas from https://files.pythonhosted.org/packages/29/d4/1244ab8edf173a10fd601f7e13b9566c1b525c4f365d6bee918e68381889/pandas-2.2.3-cp312-cp312-win_amd64.whl.metadata\n",
            "  Downloading pandas-2.2.3-cp312-cp312-win_amd64.whl.metadata (19 kB)\n",
            "Collecting numpy>=1.26.0 (from pandas)\n",
            "  Obtaining dependency information for numpy>=1.26.0 from https://files.pythonhosted.org/packages/fc/84/7f801a42a67b9772a883223a0a1e12069a14626c81a732bd70aac57aebc1/numpy-2.2.2-cp312-cp312-win_amd64.whl.metadata\n",
            "  Downloading numpy-2.2.2-cp312-cp312-win_amd64.whl.metadata (60 kB)\n",
            "     ---------------------------------------- 0.0/60.8 kB ? eta -:--:--\n",
            "     -------------------- ------------------- 30.7/60.8 kB 1.4 MB/s eta 0:00:01\n",
            "     ---------------------------------------- 60.8/60.8 kB 1.1 MB/s eta 0:00:00\n",
            "Requirement already satisfied: python-dateutil>=2.8.2 in c:\\users\\rxmar\\appdata\\roaming\\python\\python312\\site-packages (from pandas) (2.9.0.post0)\n",
            "Collecting pytz>=2020.1 (from pandas)\n",
            "  Obtaining dependency information for pytz>=2020.1 from https://files.pythonhosted.org/packages/eb/38/ac33370d784287baa1c3d538978b5e2ea064d4c1b93ffbd12826c190dd10/pytz-2025.1-py2.py3-none-any.whl.metadata\n",
            "  Downloading pytz-2025.1-py2.py3-none-any.whl.metadata (22 kB)\n",
            "Collecting tzdata>=2022.7 (from pandas)\n",
            "  Obtaining dependency information for tzdata>=2022.7 from https://files.pythonhosted.org/packages/0f/dd/84f10e23edd882c6f968c21c2434fe67bd4a528967067515feca9e611e5e/tzdata-2025.1-py2.py3-none-any.whl.metadata\n",
            "  Downloading tzdata-2025.1-py2.py3-none-any.whl.metadata (1.4 kB)\n",
            "Requirement already satisfied: six>=1.5 in c:\\users\\rxmar\\appdata\\roaming\\python\\python312\\site-packages (from python-dateutil>=2.8.2->pandas) (1.17.0)\n",
            "Downloading pandas-2.2.3-cp312-cp312-win_amd64.whl (11.5 MB)\n",
            "   ---------------------------------------- 0.0/11.5 MB ? eta -:--:--\n",
            "   ---------------------------------------- 0.1/11.5 MB 2.4 MB/s eta 0:00:05\n",
            "   - -------------------------------------- 0.3/11.5 MB 3.9 MB/s eta 0:00:03\n",
            "   -- ------------------------------------- 0.6/11.5 MB 4.4 MB/s eta 0:00:03\n",
            "   ---- ----------------------------------- 1.2/11.5 MB 6.8 MB/s eta 0:00:02\n",
            "   ----- ---------------------------------- 1.6/11.5 MB 7.2 MB/s eta 0:00:02\n",
            "   ----- ---------------------------------- 1.6/11.5 MB 7.2 MB/s eta 0:00:02\n",
            "   -------- ------------------------------- 2.3/11.5 MB 7.4 MB/s eta 0:00:02\n",
            "   ----------- ---------------------------- 3.4/11.5 MB 9.4 MB/s eta 0:00:01\n",
            "   ------------- -------------------------- 3.9/11.5 MB 9.6 MB/s eta 0:00:01\n",
            "   --------------- ------------------------ 4.5/11.5 MB 9.8 MB/s eta 0:00:01\n",
            "   ----------------- ---------------------- 5.0/11.5 MB 10.0 MB/s eta 0:00:01\n",
            "   ------------------- -------------------- 5.6/11.5 MB 10.1 MB/s eta 0:00:01\n",
            "   --------------------- ------------------ 6.1/11.5 MB 10.3 MB/s eta 0:00:01\n",
            "   ----------------------- ---------------- 6.7/11.5 MB 10.4 MB/s eta 0:00:01\n",
            "   ------------------------ --------------- 7.2/11.5 MB 10.4 MB/s eta 0:00:01\n",
            "   -------------------------- ------------- 7.7/11.5 MB 10.5 MB/s eta 0:00:01\n",
            "   ---------------------------- ----------- 8.3/11.5 MB 10.6 MB/s eta 0:00:01\n",
            "   ------------------------------ --------- 8.8/11.5 MB 10.6 MB/s eta 0:00:01\n",
            "   -------------------------------- ------- 9.4/11.5 MB 10.7 MB/s eta 0:00:01\n",
            "   ---------------------------------- ----- 9.9/11.5 MB 10.7 MB/s eta 0:00:01\n",
            "   ------------------------------------ --- 10.5/11.5 MB 11.3 MB/s eta 0:00:01\n",
            "   -------------------------------------- - 11.0/11.5 MB 11.7 MB/s eta 0:00:01\n",
            "   ---------------------------------------  11.5/11.5 MB 11.7 MB/s eta 0:00:01\n",
            "   ---------------------------------------  11.5/11.5 MB 11.7 MB/s eta 0:00:01\n",
            "   ---------------------------------------- 11.5/11.5 MB 10.7 MB/s eta 0:00:00\n",
            "Downloading numpy-2.2.2-cp312-cp312-win_amd64.whl (12.6 MB)\n",
            "   ---------------------------------------- 0.0/12.6 MB ? eta -:--:--\n",
            "   - -------------------------------------- 0.5/12.6 MB 11.1 MB/s eta 0:00:02\n",
            "   --- ------------------------------------ 1.1/12.6 MB 11.3 MB/s eta 0:00:02\n",
            "   ---- ----------------------------------- 1.4/12.6 MB 11.3 MB/s eta 0:00:01\n",
            "   ---- ----------------------------------- 1.4/12.6 MB 11.3 MB/s eta 0:00:01\n",
            "   -------- ------------------------------- 2.7/12.6 MB 11.6 MB/s eta 0:00:01\n",
            "   ---------- ----------------------------- 3.3/12.6 MB 11.6 MB/s eta 0:00:01\n",
            "   ------------ --------------------------- 3.8/12.6 MB 11.6 MB/s eta 0:00:01\n",
            "   ------------- -------------------------- 4.4/12.6 MB 11.7 MB/s eta 0:00:01\n",
            "   --------------- ------------------------ 4.9/12.6 MB 11.5 MB/s eta 0:00:01\n",
            "   ---------------- ----------------------- 5.3/12.6 MB 11.4 MB/s eta 0:00:01\n",
            "   ------------------ --------------------- 5.7/12.6 MB 11.1 MB/s eta 0:00:01\n",
            "   ------------------- -------------------- 6.2/12.6 MB 11.1 MB/s eta 0:00:01\n",
            "   --------------------- ------------------ 6.7/12.6 MB 10.9 MB/s eta 0:00:01\n",
            "   ---------------------- ----------------- 7.2/12.6 MB 11.0 MB/s eta 0:00:01\n",
            "   ------------------------ --------------- 7.7/12.6 MB 11.0 MB/s eta 0:00:01\n",
            "   -------------------------- ------------- 8.2/12.6 MB 11.0 MB/s eta 0:00:01\n",
            "   --------------------------- ------------ 8.7/12.6 MB 10.8 MB/s eta 0:00:01\n",
            "   ---------------------------- ----------- 9.1/12.6 MB 10.8 MB/s eta 0:00:01\n",
            "   ------------------------------ --------- 9.5/12.6 MB 10.8 MB/s eta 0:00:01\n",
            "   ------------------------------ --------- 9.5/12.6 MB 10.8 MB/s eta 0:00:01\n",
            "   --------------------------------- ------ 10.5/12.6 MB 10.7 MB/s eta 0:00:01\n",
            "   ---------------------------------- ----- 11.0/12.6 MB 10.6 MB/s eta 0:00:01\n",
            "   ------------------------------------ --- 11.5/12.6 MB 10.6 MB/s eta 0:00:01\n",
            "   -------------------------------------- - 12.1/12.6 MB 11.3 MB/s eta 0:00:01\n",
            "   ---------------------------------------  12.5/12.6 MB 10.9 MB/s eta 0:00:01\n",
            "   ---------------------------------------  12.6/12.6 MB 10.7 MB/s eta 0:00:01\n",
            "   ---------------------------------------- 12.6/12.6 MB 10.1 MB/s eta 0:00:00\n",
            "Downloading pytz-2025.1-py2.py3-none-any.whl (507 kB)\n",
            "   ---------------------------------------- 0.0/507.9 kB ? eta -:--:--\n",
            "   ------------------------------- -------- 399.4/507.9 kB 8.3 MB/s eta 0:00:01\n",
            "   ---------------------------------------- 507.9/507.9 kB 6.4 MB/s eta 0:00:00\n",
            "Downloading tzdata-2025.1-py2.py3-none-any.whl (346 kB)\n",
            "   ---------------------------------------- 0.0/346.8 kB ? eta -:--:--\n",
            "   ------------------------------------ --- 317.4/346.8 kB 6.5 MB/s eta 0:00:01\n",
            "   ---------------------------------------- 346.8/346.8 kB 4.3 MB/s eta 0:00:00\n",
            "Installing collected packages: pytz, tzdata, numpy, pandas\n",
            "Successfully installed numpy-2.2.2 pandas-2.2.3 pytz-2025.1 tzdata-2025.1\n",
            "Note: you may need to restart the kernel to use updated packages.\n"
          ]
        },
        {
          "name": "stderr",
          "output_type": "stream",
          "text": [
            "\n",
            "[notice] A new release of pip is available: 23.2.1 -> 25.0\n",
            "[notice] To update, run: python.exe -m pip install --upgrade pip\n"
          ]
        }
      ],
      "source": [
        "pip install pandas"
      ]
    },
    {
      "cell_type": "markdown",
      "id": "4f65d043-6bfb-44ee-8fbc-97c0f9d44cfb",
      "metadata": {
        "id": "4f65d043-6bfb-44ee-8fbc-97c0f9d44cfb"
      },
      "source": [
        "Após a instalação, é importar a importar a biblioteca conforme realizado na célula abaixo:"
      ]
    },
    {
      "cell_type": "code",
      "execution_count": 3,
      "id": "e4051b94-21ac-4d3c-a279-64979615f421",
      "metadata": {
        "id": "e4051b94-21ac-4d3c-a279-64979615f421"
      },
      "outputs": [],
      "source": [
        "import pandas as pd"
      ]
    },
    {
      "cell_type": "code",
      "execution_count": null,
      "id": "655b6794-c9f9-4016-924e-e57373c16739",
      "metadata": {
        "id": "655b6794-c9f9-4016-924e-e57373c16739"
      },
      "outputs": [],
      "source": [
        "# Importando dados de abas específicas de arquivos do excel\n",
        "df_desenvolvimento = pd.read_excel(\"IDH - Dados Reais.xlsx\", sheet_name = \"Desenvolvimento\")"
      ]
    },
    {
      "cell_type": "code",
      "execution_count": null,
      "id": "df157e5f-a501-4766-ac87-a3e1bfa54a2c",
      "metadata": {
        "id": "df157e5f-a501-4766-ac87-a3e1bfa54a2c",
        "outputId": "2e02099e-fa6c-425f-be81-18a5968b639d"
      },
      "outputs": [
        {
          "data": {
            "text/html": [
              "<div>\n",
              "<style scoped>\n",
              "    .dataframe tbody tr th:only-of-type {\n",
              "        vertical-align: middle;\n",
              "    }\n",
              "\n",
              "    .dataframe tbody tr th {\n",
              "        vertical-align: top;\n",
              "    }\n",
              "\n",
              "    .dataframe thead th {\n",
              "        text-align: right;\n",
              "    }\n",
              "</style>\n",
              "<table border=\"1\" class=\"dataframe\">\n",
              "  <thead>\n",
              "    <tr style=\"text-align: right;\">\n",
              "      <th></th>\n",
              "      <th>País</th>\n",
              "      <th>IDH</th>\n",
              "      <th>Anos de escolaridade (médio)</th>\n",
              "      <th>PIB per Capta ($)</th>\n",
              "    </tr>\n",
              "  </thead>\n",
              "  <tbody>\n",
              "    <tr>\n",
              "      <th>0</th>\n",
              "      <td>Switzerland</td>\n",
              "      <td>0.967</td>\n",
              "      <td>13.904066</td>\n",
              "      <td>69432.78669</td>\n",
              "    </tr>\n",
              "    <tr>\n",
              "      <th>1</th>\n",
              "      <td>Norway</td>\n",
              "      <td>0.966</td>\n",
              "      <td>13.062343</td>\n",
              "      <td>69189.76165</td>\n",
              "    </tr>\n",
              "    <tr>\n",
              "      <th>2</th>\n",
              "      <td>Iceland</td>\n",
              "      <td>0.959</td>\n",
              "      <td>13.767170</td>\n",
              "      <td>54688.37921</td>\n",
              "    </tr>\n",
              "    <tr>\n",
              "      <th>3</th>\n",
              "      <td>Hong Kong, China (SAR)</td>\n",
              "      <td>0.956</td>\n",
              "      <td>12.347770</td>\n",
              "      <td>62485.50516</td>\n",
              "    </tr>\n",
              "    <tr>\n",
              "      <th>4</th>\n",
              "      <td>Denmark</td>\n",
              "      <td>0.952</td>\n",
              "      <td>12.960490</td>\n",
              "      <td>62018.95694</td>\n",
              "    </tr>\n",
              "  </tbody>\n",
              "</table>\n",
              "</div>"
            ],
            "text/plain": [
              "                     País    IDH  Anos de escolaridade (médio)  \\\n",
              "0             Switzerland  0.967                     13.904066   \n",
              "1                  Norway  0.966                     13.062343   \n",
              "2                 Iceland  0.959                     13.767170   \n",
              "3  Hong Kong, China (SAR)  0.956                     12.347770   \n",
              "4                 Denmark  0.952                     12.960490   \n",
              "\n",
              "   PIB per Capta ($)  \n",
              "0        69432.78669  \n",
              "1        69189.76165  \n",
              "2        54688.37921  \n",
              "3        62485.50516  \n",
              "4        62018.95694  "
            ]
          },
          "execution_count": 4,
          "metadata": {},
          "output_type": "execute_result"
        }
      ],
      "source": [
        "df_desenvolvimento.head()"
      ]
    },
    {
      "cell_type": "code",
      "execution_count": null,
      "id": "8b4ed3fa-3887-45fc-bcb1-0f03f449590c",
      "metadata": {
        "id": "8b4ed3fa-3887-45fc-bcb1-0f03f449590c"
      },
      "outputs": [],
      "source": [
        "# Importando dados de abas específicas de arquivos do excel\n",
        "df_pais_continente = pd.read_excel(\"IDH - Dados Reais.xlsx\", sheet_name = \"País - Continente\")"
      ]
    },
    {
      "cell_type": "code",
      "execution_count": null,
      "id": "9046a5ce-dbb1-467c-b36b-9d093b6e7735",
      "metadata": {
        "id": "9046a5ce-dbb1-467c-b36b-9d093b6e7735",
        "outputId": "035839cc-1af4-429f-a975-e0df29593b3f"
      },
      "outputs": [
        {
          "data": {
            "text/html": [
              "<div>\n",
              "<style scoped>\n",
              "    .dataframe tbody tr th:only-of-type {\n",
              "        vertical-align: middle;\n",
              "    }\n",
              "\n",
              "    .dataframe tbody tr th {\n",
              "        vertical-align: top;\n",
              "    }\n",
              "\n",
              "    .dataframe thead th {\n",
              "        text-align: right;\n",
              "    }\n",
              "</style>\n",
              "<table border=\"1\" class=\"dataframe\">\n",
              "  <thead>\n",
              "    <tr style=\"text-align: right;\">\n",
              "      <th></th>\n",
              "      <th>País</th>\n",
              "      <th>Continente</th>\n",
              "    </tr>\n",
              "  </thead>\n",
              "  <tbody>\n",
              "    <tr>\n",
              "      <th>0</th>\n",
              "      <td>Switzerland</td>\n",
              "      <td>Europe</td>\n",
              "    </tr>\n",
              "    <tr>\n",
              "      <th>1</th>\n",
              "      <td>Norway</td>\n",
              "      <td>Europe</td>\n",
              "    </tr>\n",
              "    <tr>\n",
              "      <th>2</th>\n",
              "      <td>Iceland.</td>\n",
              "      <td>Europe</td>\n",
              "    </tr>\n",
              "    <tr>\n",
              "      <th>3</th>\n",
              "      <td>Hong  Kong,  China  (SAR)</td>\n",
              "      <td>Asia</td>\n",
              "    </tr>\n",
              "    <tr>\n",
              "      <th>4</th>\n",
              "      <td>Denmark</td>\n",
              "      <td>Europe</td>\n",
              "    </tr>\n",
              "  </tbody>\n",
              "</table>\n",
              "</div>"
            ],
            "text/plain": [
              "                        País Continente\n",
              "0                Switzerland     Europe\n",
              "1                     Norway     Europe\n",
              "2                   Iceland.     Europe\n",
              "3  Hong  Kong,  China  (SAR)       Asia\n",
              "4                    Denmark     Europe"
            ]
          },
          "execution_count": 6,
          "metadata": {},
          "output_type": "execute_result"
        }
      ],
      "source": [
        "df_pais_continente.head()"
      ]
    },
    {
      "cell_type": "markdown",
      "id": "bd3e52ad-0b6a-4a43-9019-8e2e1c13e419",
      "metadata": {
        "id": "bd3e52ad-0b6a-4a43-9019-8e2e1c13e419"
      },
      "source": [
        "-------------------------------------------------------------"
      ]
    },
    {
      "cell_type": "markdown",
      "id": "1d362d1b-0e3c-40fc-be7c-74dffa6282c8",
      "metadata": {
        "id": "1d362d1b-0e3c-40fc-be7c-74dffa6282c8"
      },
      "source": [
        "### **Tratamento dos Dados**"
      ]
    },
    {
      "cell_type": "markdown",
      "id": "634e5a14-e936-40d7-8888-4a35f85bf7d5",
      "metadata": {
        "id": "634e5a14-e936-40d7-8888-4a35f85bf7d5"
      },
      "source": [
        "A etapa de tratamento dos dados é essencial para garantir a qualidade, consistência e integridade dos dados, permitindo análises precisas e tomadas de decisão informadas.\n",
        "\n",
        "Neste case, é necessário garantir que o nome dos países estejam iguais nos dataframes _df_pais_continente_ e _df_desenvolvimento_ a fim de conseguirmos cruzar a informação das duas tabelas. Para este processo de remoção de ruído de dados textuais, damos o nome de **normalização**"
      ]
    },
    {
      "cell_type": "markdown",
      "id": "8cab3847-908b-4d5f-b8d5-9780c644db60",
      "metadata": {
        "id": "8cab3847-908b-4d5f-b8d5-9780c644db60"
      },
      "source": [
        "#### **Etapas da Normalização**"
      ]
    },
    {
      "cell_type": "markdown",
      "id": "6375b82f-5ab7-4c4f-9e6b-e5f9fa1340b3",
      "metadata": {
        "id": "6375b82f-5ab7-4c4f-9e6b-e5f9fa1340b3"
      },
      "source": [
        "**_1) Remoção de caixa alta_**"
      ]
    },
    {
      "cell_type": "code",
      "execution_count": null,
      "id": "99b76ba3-0be9-47e4-990d-5a138a8601d6",
      "metadata": {
        "id": "99b76ba3-0be9-47e4-990d-5a138a8601d6"
      },
      "outputs": [],
      "source": [
        "# Convertendo texto para minúsculas\n",
        "df_pais_continente['País'] = df_pais_continente['País'].str.lower()\n",
        "df_desenvolvimento['País'] = df_desenvolvimento['País'].str.lower()"
      ]
    },
    {
      "cell_type": "code",
      "execution_count": null,
      "id": "ca5baeea-69f3-46f9-bcee-b8ad995476dd",
      "metadata": {
        "id": "ca5baeea-69f3-46f9-bcee-b8ad995476dd",
        "outputId": "81c62a31-34ef-4c1f-e6ad-a38e62b74d69"
      },
      "outputs": [
        {
          "data": {
            "text/plain": [
              "0               switzerland\n",
              "1                    norway\n",
              "2                   iceland\n",
              "3    hong kong, china (sar)\n",
              "4                   denmark\n",
              "Name: País, dtype: object"
            ]
          },
          "execution_count": 8,
          "metadata": {},
          "output_type": "execute_result"
        }
      ],
      "source": [
        "df_desenvolvimento['País'].head()"
      ]
    },
    {
      "cell_type": "markdown",
      "id": "7f98b019-582d-43b2-9cc4-6b92bc5e6fa9",
      "metadata": {
        "id": "7f98b019-582d-43b2-9cc4-6b92bc5e6fa9"
      },
      "source": [
        "------------------------------------------------------------"
      ]
    },
    {
      "cell_type": "markdown",
      "id": "375b9533-20bc-4460-bc89-92bfb2a3ba12",
      "metadata": {
        "id": "375b9533-20bc-4460-bc89-92bfb2a3ba12"
      },
      "source": [
        "**_2) Remoção de pontos_**"
      ]
    },
    {
      "cell_type": "code",
      "execution_count": null,
      "id": "c16a1fd3-7c2e-416b-ad0b-72a5aa8eb7d8",
      "metadata": {
        "id": "c16a1fd3-7c2e-416b-ad0b-72a5aa8eb7d8"
      },
      "outputs": [],
      "source": [
        "df_pais_continente['País'] = df_pais_continente['País'].str.replace('.','')\n",
        "df_desenvolvimento['País'] = df_desenvolvimento['País'].str.replace('.','')"
      ]
    },
    {
      "cell_type": "markdown",
      "id": "3d216f1b-849f-4695-abc4-63ce0995ab38",
      "metadata": {
        "id": "3d216f1b-849f-4695-abc4-63ce0995ab38"
      },
      "source": [
        "------------------------------------------------------------"
      ]
    },
    {
      "cell_type": "markdown",
      "id": "8d7d9371-50d0-4a81-b350-bf6034de30d8",
      "metadata": {
        "id": "8d7d9371-50d0-4a81-b350-bf6034de30d8"
      },
      "source": [
        "**3) Remoção de espaços excessivos**\n",
        "    \n",
        "    a) Extremidades"
      ]
    },
    {
      "cell_type": "code",
      "execution_count": null,
      "id": "18536faa-6743-443a-86e8-11380d5a4e32",
      "metadata": {
        "id": "18536faa-6743-443a-86e8-11380d5a4e32",
        "outputId": "51285031-0fe0-40d4-8008-98d593d20f17"
      },
      "outputs": [
        {
          "data": {
            "text/plain": [
              "False"
            ]
          },
          "execution_count": 10,
          "metadata": {},
          "output_type": "execute_result"
        }
      ],
      "source": [
        "teste_sem_espacos = \"Isso é um teste\"\n",
        "\n",
        "teste_com_espacos = \" Isso é um teste \"\n",
        "\n",
        "teste_sem_espacos == teste_com_espacos"
      ]
    },
    {
      "cell_type": "code",
      "execution_count": null,
      "id": "ad02d77d-4ffc-438c-b266-5333e822f71f",
      "metadata": {
        "id": "ad02d77d-4ffc-438c-b266-5333e822f71f"
      },
      "outputs": [],
      "source": [
        "teste_arrumado = teste_com_espacos.strip()"
      ]
    },
    {
      "cell_type": "code",
      "execution_count": null,
      "id": "83d6615f-6ee9-4c2e-b72b-ea38c3cf5e3b",
      "metadata": {
        "id": "83d6615f-6ee9-4c2e-b72b-ea38c3cf5e3b",
        "outputId": "798c943f-ed07-4b78-c7fc-76b321ef4546"
      },
      "outputs": [
        {
          "data": {
            "text/plain": [
              "True"
            ]
          },
          "execution_count": 12,
          "metadata": {},
          "output_type": "execute_result"
        }
      ],
      "source": [
        "teste_sem_espacos == teste_arrumado"
      ]
    },
    {
      "cell_type": "markdown",
      "id": "9fa8015b-ac5d-4923-87c3-a7d18030769c",
      "metadata": {
        "id": "9fa8015b-ac5d-4923-87c3-a7d18030769c"
      },
      "source": [
        "**3) Remoção de espaços excessivos**\n",
        "    \n",
        "    a) Extremidades\n",
        "    \n",
        "    b) Espaço entre Palavras"
      ]
    },
    {
      "cell_type": "code",
      "execution_count": null,
      "id": "5c56998d-1728-4115-81a0-d0c0a28da198",
      "metadata": {
        "id": "5c56998d-1728-4115-81a0-d0c0a28da198",
        "outputId": "50db9179-9a5f-4394-aa6a-e26a78372fc9"
      },
      "outputs": [
        {
          "data": {
            "text/plain": [
              "False"
            ]
          },
          "execution_count": 13,
          "metadata": {},
          "output_type": "execute_result"
        }
      ],
      "source": [
        "teste_sem_espacos = \"Isso é um teste\"\n",
        "\n",
        "teste_com_espacos = \"Isso         é        um   teste\"\n",
        "\n",
        "teste_sem_espacos == teste_com_espacos"
      ]
    },
    {
      "cell_type": "code",
      "execution_count": null,
      "id": "b92bc577-04e5-412c-a032-019230fc1ff8",
      "metadata": {
        "id": "b92bc577-04e5-412c-a032-019230fc1ff8"
      },
      "outputs": [],
      "source": [
        "teste_arrumado = ' '.join(teste_com_espacos.split())"
      ]
    },
    {
      "cell_type": "code",
      "execution_count": null,
      "id": "f562c683-0941-4e7e-ad09-7e71d9f05d43",
      "metadata": {
        "id": "f562c683-0941-4e7e-ad09-7e71d9f05d43",
        "outputId": "c6fd0bf1-48d2-460c-d306-96420e39f78b"
      },
      "outputs": [
        {
          "data": {
            "text/plain": [
              "True"
            ]
          },
          "execution_count": 15,
          "metadata": {},
          "output_type": "execute_result"
        }
      ],
      "source": [
        "teste_sem_espacos == teste_arrumado"
      ]
    },
    {
      "cell_type": "markdown",
      "id": "a905b171-dd33-4786-a646-a0482a546f1d",
      "metadata": {
        "id": "a905b171-dd33-4786-a646-a0482a546f1d"
      },
      "source": [
        "Criando uma função para remover os dois tipos de espaços excessivos"
      ]
    },
    {
      "cell_type": "code",
      "execution_count": null,
      "id": "df4db4cd-14bb-4ec9-b17b-cfd23961ba21",
      "metadata": {
        "id": "df4db4cd-14bb-4ec9-b17b-cfd23961ba21"
      },
      "outputs": [],
      "source": [
        "def remove_espacos_excessivos(nome_original):\n",
        "    # remove espaços nas extremidades\n",
        "    nome_primero_ajuste = nome_original.strip()\n",
        "\n",
        "    # remove espaços entre palavras\n",
        "    nome_ajustado = ' '.join(nome_primero_ajuste.split())\n",
        "\n",
        "    return nome_ajustado"
      ]
    },
    {
      "cell_type": "code",
      "execution_count": null,
      "id": "fc9e5070-a01c-4bf3-8ac2-e70d5fc52905",
      "metadata": {
        "id": "fc9e5070-a01c-4bf3-8ac2-e70d5fc52905"
      },
      "outputs": [],
      "source": [
        "df_desenvolvimento['País'] = df_desenvolvimento['País'].apply(remove_espacos_excessivos)\n",
        "df_pais_continente['País'] = df_pais_continente['País'].apply(remove_espacos_excessivos)"
      ]
    },
    {
      "cell_type": "markdown",
      "id": "5a8fcce8-19b5-42ed-9ca2-8fae70a97142",
      "metadata": {
        "id": "5a8fcce8-19b5-42ed-9ca2-8fae70a97142"
      },
      "source": [
        "--------------------------------------------------------------"
      ]
    },
    {
      "cell_type": "markdown",
      "id": "f75c990e-6679-4681-a329-ec5c82737664",
      "metadata": {
        "id": "f75c990e-6679-4681-a329-ec5c82737664"
      },
      "source": [
        "Agora que os nomes dos países foram normalizados, podemos proceder com o cruzamento dos dados dos dataframes _df_pais_continente_ e _df_desenvolvimento_"
      ]
    },
    {
      "cell_type": "code",
      "execution_count": null,
      "id": "e0d37983-b489-4d51-8c64-9945c9b87f60",
      "metadata": {
        "id": "e0d37983-b489-4d51-8c64-9945c9b87f60"
      },
      "outputs": [],
      "source": [
        "df_completo = df_desenvolvimento.merge(right = df_pais_continente, on = \"País\", how = 'left')"
      ]
    },
    {
      "cell_type": "code",
      "execution_count": null,
      "id": "7ed5a7e2-a1f6-42ab-bb06-e637ec23ffad",
      "metadata": {
        "id": "7ed5a7e2-a1f6-42ab-bb06-e637ec23ffad",
        "outputId": "a8712fd0-9a4c-49db-aadc-e93764f7e0db"
      },
      "outputs": [
        {
          "data": {
            "text/html": [
              "<div>\n",
              "<style scoped>\n",
              "    .dataframe tbody tr th:only-of-type {\n",
              "        vertical-align: middle;\n",
              "    }\n",
              "\n",
              "    .dataframe tbody tr th {\n",
              "        vertical-align: top;\n",
              "    }\n",
              "\n",
              "    .dataframe thead th {\n",
              "        text-align: right;\n",
              "    }\n",
              "</style>\n",
              "<table border=\"1\" class=\"dataframe\">\n",
              "  <thead>\n",
              "    <tr style=\"text-align: right;\">\n",
              "      <th></th>\n",
              "      <th>País</th>\n",
              "      <th>IDH</th>\n",
              "      <th>Anos de escolaridade (médio)</th>\n",
              "      <th>PIB per Capta ($)</th>\n",
              "      <th>Continente</th>\n",
              "    </tr>\n",
              "  </thead>\n",
              "  <tbody>\n",
              "    <tr>\n",
              "      <th>0</th>\n",
              "      <td>switzerland</td>\n",
              "      <td>0.967</td>\n",
              "      <td>13.904066</td>\n",
              "      <td>69432.78669</td>\n",
              "      <td>Europe</td>\n",
              "    </tr>\n",
              "    <tr>\n",
              "      <th>1</th>\n",
              "      <td>norway</td>\n",
              "      <td>0.966</td>\n",
              "      <td>13.062343</td>\n",
              "      <td>69189.76165</td>\n",
              "      <td>Europe</td>\n",
              "    </tr>\n",
              "    <tr>\n",
              "      <th>2</th>\n",
              "      <td>iceland</td>\n",
              "      <td>0.959</td>\n",
              "      <td>13.767170</td>\n",
              "      <td>54688.37921</td>\n",
              "      <td>Europe</td>\n",
              "    </tr>\n",
              "    <tr>\n",
              "      <th>3</th>\n",
              "      <td>hong kong, china (sar)</td>\n",
              "      <td>0.956</td>\n",
              "      <td>12.347770</td>\n",
              "      <td>62485.50516</td>\n",
              "      <td>Asia</td>\n",
              "    </tr>\n",
              "    <tr>\n",
              "      <th>4</th>\n",
              "      <td>denmark</td>\n",
              "      <td>0.952</td>\n",
              "      <td>12.960490</td>\n",
              "      <td>62018.95694</td>\n",
              "      <td>Europe</td>\n",
              "    </tr>\n",
              "  </tbody>\n",
              "</table>\n",
              "</div>"
            ],
            "text/plain": [
              "                     País    IDH  Anos de escolaridade (médio)  \\\n",
              "0             switzerland  0.967                     13.904066   \n",
              "1                  norway  0.966                     13.062343   \n",
              "2                 iceland  0.959                     13.767170   \n",
              "3  hong kong, china (sar)  0.956                     12.347770   \n",
              "4                 denmark  0.952                     12.960490   \n",
              "\n",
              "   PIB per Capta ($) Continente  \n",
              "0        69432.78669     Europe  \n",
              "1        69189.76165     Europe  \n",
              "2        54688.37921     Europe  \n",
              "3        62485.50516       Asia  \n",
              "4        62018.95694     Europe  "
            ]
          },
          "execution_count": 19,
          "metadata": {},
          "output_type": "execute_result"
        }
      ],
      "source": [
        "df_completo.head()"
      ]
    },
    {
      "cell_type": "markdown",
      "id": "fd987a5a-7436-49d7-9795-67b31400952c",
      "metadata": {
        "id": "fd987a5a-7436-49d7-9795-67b31400952c"
      },
      "source": [
        "---------------------------------------------------------"
      ]
    },
    {
      "cell_type": "markdown",
      "id": "7b958dce-c721-413d-8f82-c0e745189eed",
      "metadata": {
        "id": "7b958dce-c721-413d-8f82-c0e745189eed"
      },
      "source": [
        "### **Solução**"
      ]
    },
    {
      "cell_type": "markdown",
      "id": "45172d1c-9594-48a5-8d23-1ffa1faf42f5",
      "metadata": {
        "id": "45172d1c-9594-48a5-8d23-1ffa1faf42f5"
      },
      "source": [
        "##### **Questão 1: Existe alguma relação entre IDH e anos médios de escolaridade?**"
      ]
    },
    {
      "cell_type": "markdown",
      "id": "ef03aa21-1e9b-4256-a9b3-11f4668716f2",
      "metadata": {
        "id": "ef03aa21-1e9b-4256-a9b3-11f4668716f2"
      },
      "source": [
        "A biblioteca matplotlib é uma ferramenta essencial para a visualização de dados em Python, permitindo a criação de gráficos e plots de diversos tipos, facilitando a interpretação e comunicação dos resultados de análises.\n",
        "\n",
        "Assim como fizemos com o pandas, também é necessário instalar a biblioteca via pip, conforme mostrado abaixo:"
      ]
    },
    {
      "cell_type": "code",
      "execution_count": null,
      "id": "bf597e7f-1b4f-41b6-8e0a-be559855b7f9",
      "metadata": {
        "id": "bf597e7f-1b4f-41b6-8e0a-be559855b7f9",
        "outputId": "84b5a633-17f1-4129-f848-f22a892f46fb"
      },
      "outputs": [
        {
          "name": "stdout",
          "output_type": "stream",
          "text": [
            "Requirement already satisfied: matplotlib in /home/wesley/.pyenv/versions/3.9.0/envs/new_env/lib/python3.9/site-packages (3.9.0)\n",
            "Requirement already satisfied: fonttools>=4.22.0 in /home/wesley/.pyenv/versions/3.9.0/envs/new_env/lib/python3.9/site-packages (from matplotlib) (4.53.0)\n",
            "Requirement already satisfied: importlib-resources>=3.2.0; python_version < \"3.10\" in /home/wesley/.pyenv/versions/3.9.0/envs/new_env/lib/python3.9/site-packages (from matplotlib) (6.4.0)\n",
            "Requirement already satisfied: pyparsing>=2.3.1 in /home/wesley/.pyenv/versions/3.9.0/envs/new_env/lib/python3.9/site-packages (from matplotlib) (3.1.2)\n",
            "Requirement already satisfied: cycler>=0.10 in /home/wesley/.pyenv/versions/3.9.0/envs/new_env/lib/python3.9/site-packages (from matplotlib) (0.12.1)\n",
            "Requirement already satisfied: contourpy>=1.0.1 in /home/wesley/.pyenv/versions/3.9.0/envs/new_env/lib/python3.9/site-packages (from matplotlib) (1.2.1)\n",
            "Requirement already satisfied: python-dateutil>=2.7 in /home/wesley/.pyenv/versions/3.9.0/envs/new_env/lib/python3.9/site-packages (from matplotlib) (2.8.2)\n",
            "Requirement already satisfied: pillow>=8 in /home/wesley/.pyenv/versions/3.9.0/envs/new_env/lib/python3.9/site-packages (from matplotlib) (10.3.0)\n",
            "Requirement already satisfied: packaging>=20.0 in /home/wesley/.pyenv/versions/3.9.0/envs/new_env/lib/python3.9/site-packages (from matplotlib) (23.0)\n",
            "Requirement already satisfied: numpy>=1.23 in /home/wesley/.pyenv/versions/3.9.0/envs/new_env/lib/python3.9/site-packages (from matplotlib) (1.25.2)\n",
            "Requirement already satisfied: kiwisolver>=1.3.1 in /home/wesley/.pyenv/versions/3.9.0/envs/new_env/lib/python3.9/site-packages (from matplotlib) (1.4.5)\n",
            "Requirement already satisfied: zipp>=3.1.0; python_version < \"3.10\" in /home/wesley/.pyenv/versions/3.9.0/envs/new_env/lib/python3.9/site-packages (from importlib-resources>=3.2.0; python_version < \"3.10\"->matplotlib) (3.11.0)\n",
            "Requirement already satisfied: six>=1.5 in /home/wesley/.pyenv/versions/3.9.0/envs/new_env/lib/python3.9/site-packages (from python-dateutil>=2.7->matplotlib) (1.16.0)\n",
            "\u001b[33mWARNING: You are using pip version 20.2.3; however, version 24.0 is available.\n",
            "You should consider upgrading via the '/home/wesley/.pyenv/versions/new_env/bin/python -m pip install --upgrade pip' command.\u001b[0m\n",
            "Note: you may need to restart the kernel to use updated packages.\n"
          ]
        }
      ],
      "source": [
        "pip install matplotlib"
      ]
    },
    {
      "cell_type": "markdown",
      "id": "17a4b6b5-f5c8-4f19-831a-2447efe8c73c",
      "metadata": {
        "id": "17a4b6b5-f5c8-4f19-831a-2447efe8c73c"
      },
      "source": [
        "Importando o matplotlib"
      ]
    },
    {
      "cell_type": "code",
      "execution_count": null,
      "id": "992afaee-5ca7-47ce-b344-c301242995ba",
      "metadata": {
        "id": "992afaee-5ca7-47ce-b344-c301242995ba"
      },
      "outputs": [],
      "source": [
        "import matplotlib.pyplot as plt"
      ]
    },
    {
      "cell_type": "markdown",
      "id": "10e79f75-c94c-41a0-a2d7-73de45d1d0a6",
      "metadata": {
        "id": "10e79f75-c94c-41a0-a2d7-73de45d1d0a6"
      },
      "source": [
        "Gerando gráficos a partir dos dados"
      ]
    },
    {
      "cell_type": "code",
      "execution_count": null,
      "id": "aa672c5d-9ab5-4ac6-ab2a-b03e574cda16",
      "metadata": {
        "id": "aa672c5d-9ab5-4ac6-ab2a-b03e574cda16",
        "outputId": "b71ef599-0993-4307-dc99-8cad0a290e73"
      },
      "outputs": [
        {
          "data": {
            "image/png": "[encoded data removed]",
            "text/plain": [
              "<Figure size 1000x500 with 1 Axes>"
            ]
          },
          "metadata": {},
          "output_type": "display_data"
        }
      ],
      "source": [
        "# Criar uma figura com um tamanho especificado\n",
        "plt.figure(figsize=(10, 5))\n",
        "\n",
        "# Gráfico de dispersão do PIB per Capita contra o IDH\n",
        "plt.scatter(\n",
        "    df_completo['PIB per Capta ($)'], # x\n",
        "    df_desenvolvimento['IDH'], # y\n",
        "    color='r',\n",
        ")\n",
        "\n",
        "# Adicionar título e rótulos aos eixos\n",
        "plt.title('Relação entre IDH e PIB per Capita')\n",
        "plt.xlabel('PIB per Capita')\n",
        "plt.ylabel('IDH')\n",
        "\n",
        "# Exibir o gráfico\n",
        "plt.show()"
      ]
    },
    {
      "cell_type": "markdown",
      "id": "180c8ad9-331d-4cb3-89bc-7b2c9d4c5a2a",
      "metadata": {
        "id": "180c8ad9-331d-4cb3-89bc-7b2c9d4c5a2a"
      },
      "source": [
        "---------------------------------"
      ]
    },
    {
      "cell_type": "markdown",
      "id": "701c932f-466f-448f-bdaa-f48aba41381b",
      "metadata": {
        "id": "701c932f-466f-448f-bdaa-f48aba41381b"
      },
      "source": [
        "##### **Questão 2: Existe alguma relação entre IDH e PIB per capita?**"
      ]
    },
    {
      "cell_type": "code",
      "execution_count": null,
      "id": "361bca38-5ea1-4f11-914b-1e724d01ba3a",
      "metadata": {
        "id": "361bca38-5ea1-4f11-914b-1e724d01ba3a",
        "outputId": "78acb33a-97bd-463d-9bdb-aa77b048921b"
      },
      "outputs": [
        {
          "data": {
            "image/png": "[encoded data removed]",
            "text/plain": [
              "<Figure size 1000x500 with 1 Axes>"
            ]
          },
          "metadata": {},
          "output_type": "display_data"
        }
      ],
      "source": [
        "# Criar uma figura com um tamanho especificado\n",
        "plt.figure(figsize=(10, 5))\n",
        "\n",
        "# Gráfico de dispersão do Anos de escolaridade (médio) contra o IDH\n",
        "plt.scatter(\n",
        "    df_completo['Anos de escolaridade (médio)'], # x\n",
        "    df_desenvolvimento['IDH'], # y\n",
        "    color='r',\n",
        ")\n",
        "\n",
        "# Adicionar título e rótulos aos eixos\n",
        "plt.title('Relação entre IDH e Anos de Escolaridade')\n",
        "plt.xlabel('PIB per Capita')\n",
        "plt.ylabel('IDH')\n",
        "\n",
        "plt.show()"
      ]
    },
    {
      "cell_type": "markdown",
      "id": "1f4bed29-1c68-4447-9eb9-e6e9d4a351e2",
      "metadata": {
        "id": "1f4bed29-1c68-4447-9eb9-e6e9d4a351e2"
      },
      "source": [
        "----------------------------------------------"
      ]
    },
    {
      "cell_type": "markdown",
      "id": "00280beb-e973-4a86-8932-17d47d84a294",
      "metadata": {
        "id": "00280beb-e973-4a86-8932-17d47d84a294"
      },
      "source": [
        "**Questão 3: Qual é a média do IDH para cada um dos continentes?**"
      ]
    },
    {
      "cell_type": "code",
      "execution_count": null,
      "id": "c1abc3d4-5015-459f-9e2c-31e1a31fa046",
      "metadata": {
        "id": "c1abc3d4-5015-459f-9e2c-31e1a31fa046",
        "outputId": "74c5c084-b814-4306-cf72-cd1a9367d786"
      },
      "outputs": [
        {
          "data": {
            "text/html": [
              "<div>\n",
              "<style scoped>\n",
              "    .dataframe tbody tr th:only-of-type {\n",
              "        vertical-align: middle;\n",
              "    }\n",
              "\n",
              "    .dataframe tbody tr th {\n",
              "        vertical-align: top;\n",
              "    }\n",
              "\n",
              "    .dataframe thead th {\n",
              "        text-align: right;\n",
              "    }\n",
              "</style>\n",
              "<table border=\"1\" class=\"dataframe\">\n",
              "  <thead>\n",
              "    <tr style=\"text-align: right;\">\n",
              "      <th></th>\n",
              "      <th>País</th>\n",
              "      <th>IDH</th>\n",
              "      <th>Anos de escolaridade (médio)</th>\n",
              "      <th>PIB per Capta ($)</th>\n",
              "      <th>Continente</th>\n",
              "    </tr>\n",
              "  </thead>\n",
              "  <tbody>\n",
              "    <tr>\n",
              "      <th>0</th>\n",
              "      <td>switzerland</td>\n",
              "      <td>0.967</td>\n",
              "      <td>13.904066</td>\n",
              "      <td>69432.78669</td>\n",
              "      <td>Europe</td>\n",
              "    </tr>\n",
              "    <tr>\n",
              "      <th>1</th>\n",
              "      <td>norway</td>\n",
              "      <td>0.966</td>\n",
              "      <td>13.062343</td>\n",
              "      <td>69189.76165</td>\n",
              "      <td>Europe</td>\n",
              "    </tr>\n",
              "    <tr>\n",
              "      <th>2</th>\n",
              "      <td>iceland</td>\n",
              "      <td>0.959</td>\n",
              "      <td>13.767170</td>\n",
              "      <td>54688.37921</td>\n",
              "      <td>Europe</td>\n",
              "    </tr>\n",
              "    <tr>\n",
              "      <th>3</th>\n",
              "      <td>hong kong, china (sar)</td>\n",
              "      <td>0.956</td>\n",
              "      <td>12.347770</td>\n",
              "      <td>62485.50516</td>\n",
              "      <td>Asia</td>\n",
              "    </tr>\n",
              "    <tr>\n",
              "      <th>4</th>\n",
              "      <td>denmark</td>\n",
              "      <td>0.952</td>\n",
              "      <td>12.960490</td>\n",
              "      <td>62018.95694</td>\n",
              "      <td>Europe</td>\n",
              "    </tr>\n",
              "  </tbody>\n",
              "</table>\n",
              "</div>"
            ],
            "text/plain": [
              "                     País    IDH  Anos de escolaridade (médio)  \\\n",
              "0             switzerland  0.967                     13.904066   \n",
              "1                  norway  0.966                     13.062343   \n",
              "2                 iceland  0.959                     13.767170   \n",
              "3  hong kong, china (sar)  0.956                     12.347770   \n",
              "4                 denmark  0.952                     12.960490   \n",
              "\n",
              "   PIB per Capta ($) Continente  \n",
              "0        69432.78669     Europe  \n",
              "1        69189.76165     Europe  \n",
              "2        54688.37921     Europe  \n",
              "3        62485.50516       Asia  \n",
              "4        62018.95694     Europe  "
            ]
          },
          "execution_count": 24,
          "metadata": {},
          "output_type": "execute_result"
        }
      ],
      "source": [
        "df_completo.head()"
      ]
    },
    {
      "cell_type": "markdown",
      "id": "99c57444-c663-4056-85e4-4e329ef6d822",
      "metadata": {
        "id": "99c57444-c663-4056-85e4-4e329ef6d822"
      },
      "source": [
        "Para conseguir responder essa questão, é necessário agrupar os IDHs por continente e, então, extraír a média desses valores.\n",
        "\n",
        "Felizmente, o pandas possue um método que facilita o cálculo de estatísticas descritivas de agrupamentos dos dados. O nome desta função é **groupby**."
      ]
    },
    {
      "cell_type": "code",
      "execution_count": null,
      "id": "9e6ba56e-21cd-4d0d-aaac-e39e886b852c",
      "metadata": {
        "id": "9e6ba56e-21cd-4d0d-aaac-e39e886b852c"
      },
      "outputs": [],
      "source": [
        "# Calculando a média para cada continente\n",
        "media_por_continente = df_completo.groupby(['Continente'])['IDH'].mean().to_frame().reset_index()"
      ]
    },
    {
      "cell_type": "code",
      "execution_count": null,
      "id": "6aad258c-d132-41bf-93b3-08d09367a906",
      "metadata": {
        "id": "6aad258c-d132-41bf-93b3-08d09367a906"
      },
      "outputs": [],
      "source": [
        "# Ordenando de maneira decrescente\n",
        "media_por_continente = media_por_continente.sort_values(by = 'IDH', ascending = False)"
      ]
    },
    {
      "cell_type": "code",
      "execution_count": null,
      "id": "7c51b1a2-02d8-456b-86c6-8f472c899e9e",
      "metadata": {
        "id": "7c51b1a2-02d8-456b-86c6-8f472c899e9e",
        "outputId": "8b978525-2a41-4667-e104-e972b5c03ce1"
      },
      "outputs": [
        {
          "data": {
            "text/html": [
              "<div>\n",
              "<style scoped>\n",
              "    .dataframe tbody tr th:only-of-type {\n",
              "        vertical-align: middle;\n",
              "    }\n",
              "\n",
              "    .dataframe tbody tr th {\n",
              "        vertical-align: top;\n",
              "    }\n",
              "\n",
              "    .dataframe thead th {\n",
              "        text-align: right;\n",
              "    }\n",
              "</style>\n",
              "<table border=\"1\" class=\"dataframe\">\n",
              "  <thead>\n",
              "    <tr style=\"text-align: right;\">\n",
              "      <th></th>\n",
              "      <th>Continente</th>\n",
              "      <th>IDH</th>\n",
              "    </tr>\n",
              "  </thead>\n",
              "  <tbody>\n",
              "    <tr>\n",
              "      <th>2</th>\n",
              "      <td>Europe</td>\n",
              "      <td>0.884634</td>\n",
              "    </tr>\n",
              "    <tr>\n",
              "      <th>5</th>\n",
              "      <td>South America</td>\n",
              "      <td>0.762000</td>\n",
              "    </tr>\n",
              "    <tr>\n",
              "      <th>3</th>\n",
              "      <td>North America</td>\n",
              "      <td>0.760435</td>\n",
              "    </tr>\n",
              "    <tr>\n",
              "      <th>1</th>\n",
              "      <td>Asia</td>\n",
              "      <td>0.750204</td>\n",
              "    </tr>\n",
              "    <tr>\n",
              "      <th>4</th>\n",
              "      <td>Oceania</td>\n",
              "      <td>0.709857</td>\n",
              "    </tr>\n",
              "    <tr>\n",
              "      <th>0</th>\n",
              "      <td>Africa</td>\n",
              "      <td>0.557037</td>\n",
              "    </tr>\n",
              "  </tbody>\n",
              "</table>\n",
              "</div>"
            ],
            "text/plain": [
              "      Continente       IDH\n",
              "2         Europe  0.884634\n",
              "5  South America  0.762000\n",
              "3  North America  0.760435\n",
              "1           Asia  0.750204\n",
              "4        Oceania  0.709857\n",
              "0         Africa  0.557037"
            ]
          },
          "execution_count": 27,
          "metadata": {},
          "output_type": "execute_result"
        }
      ],
      "source": [
        "media_por_continente"
      ]
    },
    {
      "cell_type": "code",
      "execution_count": null,
      "id": "49f064c7-ec81-49eb-9ca2-ca91bf467d6b",
      "metadata": {
        "id": "49f064c7-ec81-49eb-9ca2-ca91bf467d6b",
        "outputId": "fa4ae511-0599-4d5c-82b4-777da6e77e47"
      },
      "outputs": [
        {
          "data": {
            "image/png": "[encoded data removed]",
            "text/plain": [
              "<Figure size 1000x500 with 1 Axes>"
            ]
          },
          "metadata": {},
          "output_type": "display_data"
        }
      ],
      "source": [
        "# Criar uma figura com um tamanho especificado\n",
        "plt.figure(figsize=(10, 5))\n",
        "\n",
        "# Gráfico de barras com o IDH médio por continente\n",
        "plt.bar(\n",
        "    media_por_continente['Continente'], # x\n",
        "    media_por_continente['IDH'], # y\n",
        "    color='b',\n",
        ")\n",
        "\n",
        "# Adicionar título e rótulos aos eixos\n",
        "plt.title('IDH Médio por Continente')\n",
        "plt.ylabel('IDH')\n",
        "\n",
        "plt.show()"
      ]
    },
    {
      "cell_type": "markdown",
      "id": "a54192d9-637b-490d-82e2-6379dc64bac2",
      "metadata": {
        "id": "a54192d9-637b-490d-82e2-6379dc64bac2"
      },
      "source": [
        "----------------------------------------------"
      ]
    },
    {
      "cell_type": "markdown",
      "id": "33ded054-1a2a-42b3-886a-c172ad2eb619",
      "metadata": {
        "id": "33ded054-1a2a-42b3-886a-c172ad2eb619"
      },
      "source": [
        "**Questão 4: Quantos países de cada continente possuem IDH acima da média global?**"
      ]
    },
    {
      "cell_type": "markdown",
      "id": "55b00402-43b9-4161-a6a5-a5289dc1f055",
      "metadata": {
        "id": "55b00402-43b9-4161-a6a5-a5289dc1f055"
      },
      "source": [
        "Para resolver esta questão precisamos:\n",
        "\n",
        "   1) Contabilizar o número total de países\n",
        "   2) Identificar a média global\n",
        "   3) Contabilizar o número total de países acima da média global\n",
        "   4) Calcular o percentual divindo os resultados de 3 e 4\n",
        "   5) Plotar os gráficos                               "
      ]
    },
    {
      "cell_type": "code",
      "execution_count": null,
      "id": "d9be50fe-cb78-435d-ad4d-1acc445908cd",
      "metadata": {
        "id": "d9be50fe-cb78-435d-ad4d-1acc445908cd"
      },
      "outputs": [],
      "source": []
    },
    {
      "cell_type": "markdown",
      "id": "eaf3b1f7-2285-4e4c-af45-4ad02704b122",
      "metadata": {
        "id": "eaf3b1f7-2285-4e4c-af45-4ad02704b122"
      },
      "source": [
        "Calculando o número total de países"
      ]
    },
    {
      "cell_type": "code",
      "execution_count": null,
      "id": "5b2da253-ea5d-47c1-992d-f353f5ac3f2d",
      "metadata": {
        "id": "5b2da253-ea5d-47c1-992d-f353f5ac3f2d"
      },
      "outputs": [],
      "source": [
        "numero_total_paises = df_completo.groupby(['Continente'])['País'].count().to_frame().reset_index()"
      ]
    },
    {
      "cell_type": "code",
      "execution_count": null,
      "id": "bcad338c-f1ff-4840-8cbf-b5d4440693be",
      "metadata": {
        "id": "bcad338c-f1ff-4840-8cbf-b5d4440693be",
        "outputId": "20dc0ac9-7a42-4dda-c1e6-46503a15aa14"
      },
      "outputs": [
        {
          "data": {
            "text/html": [
              "<div>\n",
              "<style scoped>\n",
              "    .dataframe tbody tr th:only-of-type {\n",
              "        vertical-align: middle;\n",
              "    }\n",
              "\n",
              "    .dataframe tbody tr th {\n",
              "        vertical-align: top;\n",
              "    }\n",
              "\n",
              "    .dataframe thead th {\n",
              "        text-align: right;\n",
              "    }\n",
              "</style>\n",
              "<table border=\"1\" class=\"dataframe\">\n",
              "  <thead>\n",
              "    <tr style=\"text-align: right;\">\n",
              "      <th></th>\n",
              "      <th>Continente</th>\n",
              "      <th>País</th>\n",
              "    </tr>\n",
              "  </thead>\n",
              "  <tbody>\n",
              "    <tr>\n",
              "      <th>0</th>\n",
              "      <td>Africa</td>\n",
              "      <td>54</td>\n",
              "    </tr>\n",
              "    <tr>\n",
              "      <th>1</th>\n",
              "      <td>Asia</td>\n",
              "      <td>49</td>\n",
              "    </tr>\n",
              "    <tr>\n",
              "      <th>2</th>\n",
              "      <td>Europe</td>\n",
              "      <td>41</td>\n",
              "    </tr>\n",
              "    <tr>\n",
              "      <th>3</th>\n",
              "      <td>North America</td>\n",
              "      <td>23</td>\n",
              "    </tr>\n",
              "    <tr>\n",
              "      <th>4</th>\n",
              "      <td>Oceania</td>\n",
              "      <td>14</td>\n",
              "    </tr>\n",
              "  </tbody>\n",
              "</table>\n",
              "</div>"
            ],
            "text/plain": [
              "      Continente  País\n",
              "0         Africa    54\n",
              "1           Asia    49\n",
              "2         Europe    41\n",
              "3  North America    23\n",
              "4        Oceania    14"
            ]
          },
          "execution_count": 30,
          "metadata": {},
          "output_type": "execute_result"
        }
      ],
      "source": [
        "numero_total_paises.head()"
      ]
    },
    {
      "cell_type": "code",
      "execution_count": null,
      "id": "86566248-883a-441a-86b0-b33068d95ef4",
      "metadata": {
        "id": "86566248-883a-441a-86b0-b33068d95ef4"
      },
      "outputs": [],
      "source": []
    },
    {
      "cell_type": "markdown",
      "id": "807139c9-1a81-4474-935a-3ba05429a62a",
      "metadata": {
        "id": "807139c9-1a81-4474-935a-3ba05429a62a"
      },
      "source": [
        "Calculando a média global"
      ]
    },
    {
      "cell_type": "code",
      "execution_count": null,
      "id": "08afd51a-735b-482e-8bd8-585d722785fb",
      "metadata": {
        "id": "08afd51a-735b-482e-8bd8-585d722785fb"
      },
      "outputs": [],
      "source": [
        "media_global = df_completo['IDH'].mean()"
      ]
    },
    {
      "cell_type": "code",
      "execution_count": null,
      "id": "df5e8d3b-fedc-4a25-a080-85830f5dc1bc",
      "metadata": {
        "id": "df5e8d3b-fedc-4a25-a080-85830f5dc1bc",
        "outputId": "9ca83409-432f-4564-f33d-a6ccee02e010"
      },
      "outputs": [
        {
          "name": "stdout",
          "output_type": "stream",
          "text": [
            "Média global: 0.7237409326424872\n"
          ]
        }
      ],
      "source": [
        "print(f\"Média global: {media_global}\")"
      ]
    },
    {
      "cell_type": "code",
      "execution_count": null,
      "id": "8536192f-acba-4270-b3ee-862f90852cf6",
      "metadata": {
        "id": "8536192f-acba-4270-b3ee-862f90852cf6"
      },
      "outputs": [],
      "source": []
    },
    {
      "cell_type": "markdown",
      "id": "c6f11a71-a374-49f8-818a-e60c24520d0d",
      "metadata": {
        "id": "c6f11a71-a374-49f8-818a-e60c24520d0d"
      },
      "source": [
        "Calculando o número total de países acima da média global"
      ]
    },
    {
      "cell_type": "code",
      "execution_count": null,
      "id": "53646a8d-4fd5-41e9-acb3-34c5cf124518",
      "metadata": {
        "id": "53646a8d-4fd5-41e9-acb3-34c5cf124518",
        "outputId": "0573a009-2944-4cca-e1c2-18851b3ca44c"
      },
      "outputs": [
        {
          "data": {
            "text/html": [
              "<div>\n",
              "<style scoped>\n",
              "    .dataframe tbody tr th:only-of-type {\n",
              "        vertical-align: middle;\n",
              "    }\n",
              "\n",
              "    .dataframe tbody tr th {\n",
              "        vertical-align: top;\n",
              "    }\n",
              "\n",
              "    .dataframe thead th {\n",
              "        text-align: right;\n",
              "    }\n",
              "</style>\n",
              "<table border=\"1\" class=\"dataframe\">\n",
              "  <thead>\n",
              "    <tr style=\"text-align: right;\">\n",
              "      <th></th>\n",
              "      <th>País</th>\n",
              "      <th>IDH</th>\n",
              "      <th>Anos de escolaridade (médio)</th>\n",
              "      <th>PIB per Capta ($)</th>\n",
              "      <th>Continente</th>\n",
              "    </tr>\n",
              "  </thead>\n",
              "  <tbody>\n",
              "    <tr>\n",
              "      <th>0</th>\n",
              "      <td>switzerland</td>\n",
              "      <td>0.967</td>\n",
              "      <td>13.904066</td>\n",
              "      <td>69432.78669</td>\n",
              "      <td>Europe</td>\n",
              "    </tr>\n",
              "    <tr>\n",
              "      <th>1</th>\n",
              "      <td>norway</td>\n",
              "      <td>0.966</td>\n",
              "      <td>13.062343</td>\n",
              "      <td>69189.76165</td>\n",
              "      <td>Europe</td>\n",
              "    </tr>\n",
              "    <tr>\n",
              "      <th>2</th>\n",
              "      <td>iceland</td>\n",
              "      <td>0.959</td>\n",
              "      <td>13.767170</td>\n",
              "      <td>54688.37921</td>\n",
              "      <td>Europe</td>\n",
              "    </tr>\n",
              "    <tr>\n",
              "      <th>3</th>\n",
              "      <td>hong kong, china (sar)</td>\n",
              "      <td>0.956</td>\n",
              "      <td>12.347770</td>\n",
              "      <td>62485.50516</td>\n",
              "      <td>Asia</td>\n",
              "    </tr>\n",
              "    <tr>\n",
              "      <th>4</th>\n",
              "      <td>denmark</td>\n",
              "      <td>0.952</td>\n",
              "      <td>12.960490</td>\n",
              "      <td>62018.95694</td>\n",
              "      <td>Europe</td>\n",
              "    </tr>\n",
              "  </tbody>\n",
              "</table>\n",
              "</div>"
            ],
            "text/plain": [
              "                     País    IDH  Anos de escolaridade (médio)  \\\n",
              "0             switzerland  0.967                     13.904066   \n",
              "1                  norway  0.966                     13.062343   \n",
              "2                 iceland  0.959                     13.767170   \n",
              "3  hong kong, china (sar)  0.956                     12.347770   \n",
              "4                 denmark  0.952                     12.960490   \n",
              "\n",
              "   PIB per Capta ($) Continente  \n",
              "0        69432.78669     Europe  \n",
              "1        69189.76165     Europe  \n",
              "2        54688.37921     Europe  \n",
              "3        62485.50516       Asia  \n",
              "4        62018.95694     Europe  "
            ]
          },
          "execution_count": 33,
          "metadata": {},
          "output_type": "execute_result"
        }
      ],
      "source": [
        "paises_acima_meida_global = df_completo[df_completo['IDH'] > media_global]\n",
        "paises_acima_meida_global.head()"
      ]
    },
    {
      "cell_type": "code",
      "execution_count": null,
      "id": "5af6b5cd-0e2d-4603-8b4e-f457add83ac9",
      "metadata": {
        "id": "5af6b5cd-0e2d-4603-8b4e-f457add83ac9"
      },
      "outputs": [],
      "source": [
        "numero_paises_acima_media = paises_acima_meida_global.groupby(['Continente'])['País'].count().to_frame().reset_index()"
      ]
    },
    {
      "cell_type": "code",
      "execution_count": null,
      "id": "ed48e595-cfc2-44d6-942e-e38d2493c676",
      "metadata": {
        "id": "ed48e595-cfc2-44d6-942e-e38d2493c676",
        "outputId": "ba584b25-215c-4950-f2ac-78a9f4ab71e6"
      },
      "outputs": [
        {
          "data": {
            "text/html": [
              "<div>\n",
              "<style scoped>\n",
              "    .dataframe tbody tr th:only-of-type {\n",
              "        vertical-align: middle;\n",
              "    }\n",
              "\n",
              "    .dataframe tbody tr th {\n",
              "        vertical-align: top;\n",
              "    }\n",
              "\n",
              "    .dataframe thead th {\n",
              "        text-align: right;\n",
              "    }\n",
              "</style>\n",
              "<table border=\"1\" class=\"dataframe\">\n",
              "  <thead>\n",
              "    <tr style=\"text-align: right;\">\n",
              "      <th></th>\n",
              "      <th>Continente</th>\n",
              "      <th>País</th>\n",
              "    </tr>\n",
              "  </thead>\n",
              "  <tbody>\n",
              "    <tr>\n",
              "      <th>0</th>\n",
              "      <td>Africa</td>\n",
              "      <td>6</td>\n",
              "    </tr>\n",
              "    <tr>\n",
              "      <th>1</th>\n",
              "      <td>Asia</td>\n",
              "      <td>30</td>\n",
              "    </tr>\n",
              "    <tr>\n",
              "      <th>2</th>\n",
              "      <td>Europe</td>\n",
              "      <td>41</td>\n",
              "    </tr>\n",
              "    <tr>\n",
              "      <th>3</th>\n",
              "      <td>North America</td>\n",
              "      <td>16</td>\n",
              "    </tr>\n",
              "    <tr>\n",
              "      <th>4</th>\n",
              "      <td>Oceania</td>\n",
              "      <td>6</td>\n",
              "    </tr>\n",
              "  </tbody>\n",
              "</table>\n",
              "</div>"
            ],
            "text/plain": [
              "      Continente  País\n",
              "0         Africa     6\n",
              "1           Asia    30\n",
              "2         Europe    41\n",
              "3  North America    16\n",
              "4        Oceania     6"
            ]
          },
          "execution_count": 35,
          "metadata": {},
          "output_type": "execute_result"
        }
      ],
      "source": [
        "numero_paises_acima_media.head()"
      ]
    },
    {
      "cell_type": "code",
      "execution_count": null,
      "id": "1d8eb197-758b-4809-ae2b-ac23dcac4107",
      "metadata": {
        "id": "1d8eb197-758b-4809-ae2b-ac23dcac4107"
      },
      "outputs": [],
      "source": []
    },
    {
      "cell_type": "markdown",
      "id": "edac2f32-118d-4163-a529-0f7a4d3c832d",
      "metadata": {
        "id": "edac2f32-118d-4163-a529-0f7a4d3c832d"
      },
      "source": [
        "Calculando o percentual de países acima da média global"
      ]
    },
    {
      "cell_type": "code",
      "execution_count": null,
      "id": "60059dab-920e-4dcf-ba63-f5ebbca368b1",
      "metadata": {
        "id": "60059dab-920e-4dcf-ba63-f5ebbca368b1"
      },
      "outputs": [],
      "source": [
        "numero_paises_acima_media['percentual_acima_media'] = (numero_paises_acima_media['País']/numero_total_paises['País'])*100"
      ]
    },
    {
      "cell_type": "code",
      "execution_count": null,
      "id": "de045127-36d9-4822-8174-eadc40834a22",
      "metadata": {
        "id": "de045127-36d9-4822-8174-eadc40834a22",
        "outputId": "e85f8aa0-47cd-4fa3-c8c5-c073b3392d53"
      },
      "outputs": [
        {
          "data": {
            "text/html": [
              "<div>\n",
              "<style scoped>\n",
              "    .dataframe tbody tr th:only-of-type {\n",
              "        vertical-align: middle;\n",
              "    }\n",
              "\n",
              "    .dataframe tbody tr th {\n",
              "        vertical-align: top;\n",
              "    }\n",
              "\n",
              "    .dataframe thead th {\n",
              "        text-align: right;\n",
              "    }\n",
              "</style>\n",
              "<table border=\"1\" class=\"dataframe\">\n",
              "  <thead>\n",
              "    <tr style=\"text-align: right;\">\n",
              "      <th></th>\n",
              "      <th>Continente</th>\n",
              "      <th>País</th>\n",
              "      <th>percentual_acima_media</th>\n",
              "    </tr>\n",
              "  </thead>\n",
              "  <tbody>\n",
              "    <tr>\n",
              "      <th>0</th>\n",
              "      <td>Africa</td>\n",
              "      <td>6</td>\n",
              "      <td>11.111111</td>\n",
              "    </tr>\n",
              "    <tr>\n",
              "      <th>1</th>\n",
              "      <td>Asia</td>\n",
              "      <td>30</td>\n",
              "      <td>61.224490</td>\n",
              "    </tr>\n",
              "    <tr>\n",
              "      <th>2</th>\n",
              "      <td>Europe</td>\n",
              "      <td>41</td>\n",
              "      <td>100.000000</td>\n",
              "    </tr>\n",
              "    <tr>\n",
              "      <th>3</th>\n",
              "      <td>North America</td>\n",
              "      <td>16</td>\n",
              "      <td>69.565217</td>\n",
              "    </tr>\n",
              "    <tr>\n",
              "      <th>4</th>\n",
              "      <td>Oceania</td>\n",
              "      <td>6</td>\n",
              "      <td>42.857143</td>\n",
              "    </tr>\n",
              "    <tr>\n",
              "      <th>5</th>\n",
              "      <td>South America</td>\n",
              "      <td>9</td>\n",
              "      <td>75.000000</td>\n",
              "    </tr>\n",
              "  </tbody>\n",
              "</table>\n",
              "</div>"
            ],
            "text/plain": [
              "      Continente  País  percentual_acima_media\n",
              "0         Africa     6               11.111111\n",
              "1           Asia    30               61.224490\n",
              "2         Europe    41              100.000000\n",
              "3  North America    16               69.565217\n",
              "4        Oceania     6               42.857143\n",
              "5  South America     9               75.000000"
            ]
          },
          "execution_count": 37,
          "metadata": {},
          "output_type": "execute_result"
        }
      ],
      "source": [
        "numero_paises_acima_media"
      ]
    },
    {
      "cell_type": "code",
      "execution_count": null,
      "id": "19922e96-9119-4e9b-bb41-5eb3a4ef3f5c",
      "metadata": {
        "id": "19922e96-9119-4e9b-bb41-5eb3a4ef3f5c"
      },
      "outputs": [],
      "source": [
        "numero_paises_acima_media = numero_paises_acima_media.sort_values(by=\"percentual_acima_media\", ascending=False)"
      ]
    },
    {
      "cell_type": "code",
      "execution_count": null,
      "id": "191295e7-c6a4-42ad-a2e1-fec529390a29",
      "metadata": {
        "id": "191295e7-c6a4-42ad-a2e1-fec529390a29"
      },
      "outputs": [],
      "source": []
    },
    {
      "cell_type": "markdown",
      "id": "46a043c8-f527-4604-b6bd-3294a33f48ae",
      "metadata": {
        "id": "46a043c8-f527-4604-b6bd-3294a33f48ae"
      },
      "source": [
        "Plotando os resultados"
      ]
    },
    {
      "cell_type": "code",
      "execution_count": null,
      "id": "9f692af7-e227-43f2-a559-a11d080f199d",
      "metadata": {
        "id": "9f692af7-e227-43f2-a559-a11d080f199d",
        "outputId": "4d101663-e1d6-448d-caf5-cad7a307c644"
      },
      "outputs": [
        {
          "data": {
            "image/png": "[encoded data removed]",
            "text/plain": [
              "<Figure size 1000x500 with 1 Axes>"
            ]
          },
          "metadata": {},
          "output_type": "display_data"
        }
      ],
      "source": [
        "# Criar uma figura com um tamanho especificado\n",
        "plt.figure(figsize=(10, 5))\n",
        "\n",
        "# Gráfico de barras\n",
        "plt.bar(\n",
        "    numero_paises_acima_media['Continente'], # x\n",
        "    numero_paises_acima_media['percentual_acima_media'], # y\n",
        "    color='b',\n",
        ")\n",
        "\n",
        "# Adicionar título e rótulos aos eixos\n",
        "plt.title('Percentual de Países Acima da Média Global')\n",
        "plt.ylabel('%')\n",
        "\n",
        "plt.show()"
      ]
    }
  ],
  "metadata": {
    "colab": {
      "provenance": []
    },
    "kernelspec": {
      "display_name": "Python 3",
      "language": "python",
      "name": "python3"
    },
    "language_info": {
      "codemirror_mode": {
        "name": "ipython",
        "version": 3
      },
      "file_extension": ".py",
      "mimetype": "text/x-python",
      "name": "python",
      "nbconvert_exporter": "python",
      "pygments_lexer": "ipython3",
      "version": "3.12.0"
    }
  },
  "nbformat": 4,
  "nbformat_minor": 5
}
